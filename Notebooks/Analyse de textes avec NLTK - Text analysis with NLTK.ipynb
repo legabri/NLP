{
 
 "cells": [
  {
   "cell_type": "markdown",
   "metadata": {},
   "source": [
    "# Exemples avec NLTK pour l'analyse de textes\n",
    "Ce notebook donne un aperçu rapide de techniques du traitement automatique de la langue naturelle qui peuvent être appliquées en utilisant NLTK pour décortiquer, normaliser et analyser un texte.\n",
    "\n",
    "Habituellement, un sous-ensemble de ces techniques est utilisé pour construire une application telle qu'un classificateur de texte, un analyseur de sentiments, un système de question-réponse ou un système conversationnel.\n",
    "\n",
    "Les techniques illustrées sont:\n",
    "\n",
    "* la segmentation d'un texte en phrases\n",
    "* la tokénisation de mots, c.-à-d. le découpage d'un texte en jetons (des mots individuels)\n",
    "* la normalisation d'un mot\n",
    "* l'analyse grammaticale des mots d'une phrase\n",
    "* l'analyse syntaxique d'une phrase\n",
    "* l'extraction d'entités nommées\n",
    "\n",
    "## Segmentation d'un texte en phrases\n",
    "Découpe d'un texte anglais (tiré de bulletins de nouvelles de Reuters - voir les corpus disponibles dans NLTK) et, par la suite, le découpage pour un texte français."
   ]
  },
  {
   "cell_type": "code",
   "execution_count": 1,
   "metadata": {},
   "outputs": [
    {
     "name": "stdout",
     "output_type": "stream",
     "text": [
      "AMPLE SUPPLIES LIMIT U.S. STRIKE'S OIL PRICE IMPACT\n",
      "  Ample supplies of OPEC crude weighing on\n",
      "  world markets helped limit and then reverse oil price gains\n",
      "  that followed the U.S. Strike on an Iranian oil platform in the\n",
      "  Gulf earlier on Monday, analysts said.\n",
      "      December loading rose to 19.65 dlrs, up 45 cents before\n",
      "  falling to around 19.05/15 later, unchanged from last Friday.\n",
      "      \"Fundamentals are awful,\" said Philip Lambert, analyst with\n",
      "  stockbrokers Kleinwort Grieveson, adding that total OPEC\n",
      "  production in the first week of October could be above 18.5 mln\n",
      "  bpd, little changed from September levels.\n",
      "      Peter Nicol, analyst at Chase Manhattan Bank, said OPEC\n",
      "  production could be about 18.5-19.0 mln in October. Reuter and\n",
      "  International Energy Agency (IEA) estimates put OPEC September\n",
      "  production at 18.5 mln bpd.\n",
      "      The U.S. Attack was in retaliation of last Friday's hit of\n",
      "  a Kuwaiti oil products tanker flying the U.S. Flag, the Sea\n",
      "  Isle City. It was struck by a missile, believed to be Iranian,\n",
      "  in Kuwaiti waters, and was the first hit on a U.S. Flag\n",
      "  commercial vessel in the seven year Iran/Iraq war.\n"
     ]
    }
   ],
   "source": [
    "from nltk.corpus import reuters\n",
    "texte_en = reuters.raw('test/21131')[:1150]\n",
    "print(texte_en)"
   ]
  },
  {
   "cell_type": "code",
   "execution_count": 2,
   "metadata": {},
   "outputs": [
    {
     "name": "stdout",
     "output_type": "stream",
     "text": [
      "NOMBRE DE PHRASES: 10\n",
      "\n",
      " AMPLE SUPPLIES LIMIT U.S. STRIKE'S OIL PRICE IMPACT  Ample supplies of OPEC crude weighing on  world markets helped limit and then reverse oil price gains  that followed the U.S. Strike on an Iranian oil platform in the  Gulf earlier on Monday, analysts said.\n",
      "\n",
      " December loading rose to 19.65 dlrs, up 45 cents before  falling to around 19.05/15 later, unchanged from last Friday.\n",
      "\n",
      " \"Fundamentals are awful,\" said Philip Lambert, analyst with  stockbrokers Kleinwort Grieveson, adding that total OPEC  production in the first week of October could be above 18.5 mln  bpd, little changed from September levels.\n",
      "\n",
      " Peter Nicol, analyst at Chase Manhattan Bank, said OPEC  production could be about 18.5-19.0 mln in October.\n",
      "\n",
      " Reuter and  International Energy Agency (IEA) estimates put OPEC September  production at 18.5 mln bpd.\n",
      "\n",
      " The U.S.\n",
      "\n",
      " Attack was in retaliation of last Friday's hit of  a Kuwaiti oil products tanker flying the U.S.\n",
      "\n",
      " Flag, the Sea  Isle City.\n",
      "\n",
      " It was struck by a missile, believed to be Iranian,  in Kuwaiti waters, and was the first hit on a U.S.\n",
      "\n",
      " Flag  commercial vessel in the seven year Iran/Iraq war.\n",
      "\n"
     ]
    }
   ],
   "source": [
    "import nltk\n",
    "\n",
    "def segment(text):\n",
    "    sentences = nltk.sent_tokenize(text)\n",
    "    print(\"NOMBRE DE PHRASES: {}\\n\".format(len(sentences)))\n",
    "    for sentence in sentences:\n",
    "        sentence = sentence.replace('\\n', '')\n",
    "        print(\" {}\\n\".format(sentence) )\n",
    "        \n",
    "segment(texte_en)"
   ]
  },
  {
   "cell_type": "code",
   "execution_count": 3,
   "metadata": {},
   "outputs": [
    {
     "name": "stdout",
     "output_type": "stream",
     "text": [
      "NOMBRE DE PHRASES: 3\n",
      "\n",
      " J'utilise l'appli ICI TOUT.TV depuis un certain temps pour diffuser vers une Chromecast et ça fonctionne bien 95% du temps.\n",
      "\n",
      " Je dois des fois ouvrir et fermer l'appli à 2 ou 3 reprises pour qu'elle démarre sinon l'écran reste blanc.\n",
      "\n",
      " Et un nouvel irritant vient d'apparaître: ma connexion n'est pas conservée, même après une seule journée.\n",
      "\n"
     ]
    }
   ],
   "source": [
    "texte_fr = \"J'utilise l'appli ICI TOUT.TV depuis un certain temps pour diffuser vers une Chromecast et ça fonctionne bien 95% du temps. Je dois des fois ouvrir et fermer l'appli à 2 ou 3 reprises pour qu'elle démarre sinon l'écran reste blanc. Et un nouvel irritant vient d'apparaître: ma connexion n'est pas conservée, même après une seule journée.\"\n",
    "segment(texte_fr)"
   ]
  },
  {
   "cell_type": "markdown",
   "metadata": {},
   "source": [
    "## Découpage de phrases en mots\n"
   ]
  },
  {
   "cell_type": "code",
   "execution_count": 4,
   "metadata": {},
   "outputs": [
    {
     "name": "stdout",
     "output_type": "stream",
     "text": [
      "['The', 'U.S.', 'Army', 'is', 'a', 'good', 'example', '.']\n"
     ]
    }
   ],
   "source": [
    "tokens_en = nltk.word_tokenize(\"The U.S. Army is a good example.\")\n",
    "print(tokens_en)"
   ]
  },
  {
   "cell_type": "code",
   "execution_count": 5,
   "metadata": {},
   "outputs": [
    {
     "name": "stdout",
     "output_type": "stream",
     "text": [
      "['December', 'loading', 'rose', 'to', '19.65', 'dlrs', ',', 'up', '45', 'cents', 'before', 'falling', 'to', 'around', '19.05/15', 'later', ',', 'unchanged', 'from', 'last', 'Friday', '.']\n"
     ]
    }
   ],
   "source": [
    "tokens_en = nltk.word_tokenize(\"December loading rose to 19.65 dlrs, up 45 cents before falling to around 19.05/15 later, unchanged from last Friday.\")\n",
    "print(tokens_en)"
   ]
  },
  {
   "cell_type": "code",
   "execution_count": 6,
   "metadata": {},
   "outputs": [
    {
     "name": "stdout",
     "output_type": "stream",
     "text": [
      "['Peter', 'Nicol', 'said', 'OPEC', 'production', 'could', 'be', 'about', '18.5-19.0', 'mln', 'in', 'October', '.']\n"
     ]
    }
   ],
   "source": [
    "tokens_en = nltk.word_tokenize(\"Peter Nicol said OPEC production could be about 18.5-19.0 mln in October.\")\n",
    "print(tokens_en)"
   ]
  },
  {
   "cell_type": "code",
   "execution_count": 7,
   "metadata": {},
   "outputs": [
    {
     "name": "stdout",
     "output_type": "stream",
     "text": [
      "[\"J'utilise\", \"l'appli\", 'ICI', 'TOUT.TV', 'de', 'Radio-Canada', 'et', 'ça', 'fonctionne', 'bien', '95', '%', 'du', 'temps', '.']\n"
     ]
    }
   ],
   "source": [
    "tokens_fr = nltk.word_tokenize(\"J'utilise l'appli ICI TOUT.TV de Radio-Canada et ça fonctionne bien 95% du temps.\")\n",
    "print(tokens_fr)"
   ]
  },
  {
   "cell_type": "markdown",
   "metadata": {},
   "source": [
    "# Plusieurs tokeniseurs sont disponibles dans NLTK\n",
    "Il est important de vérifier les résultats obtenus avec le tokeniseur qu'on utilise car le comportement peut varier beaucoup d'un à l'autre."
   ]
  },
  {
   "cell_type": "code",
   "execution_count": 8,
   "metadata": {},
   "outputs": [],
   "source": [
    "from nltk.tokenize import WhitespaceTokenizer\n",
    "from nltk.tokenize import RegexpTokenizer\n",
    "from nltk.tokenize import TweetTokenizer\n",
    "from nltk.tokenize import WordPunctTokenizer\n",
    "\n",
    "\n",
    "tokenizers = {\n",
    "    \"Whitesp\": WhitespaceTokenizer(),\n",
    "    \"Regex\": RegexpTokenizer('\\w+|\\$[\\d\\.]+|\\S+'),\n",
    "    \"Punkt\": WordPunctTokenizer(),\n",
    "    \"Tweet\": TweetTokenizer()\n",
    "}\n",
    "\n",
    "def compare_tok(sentence):\n",
    "    for name, tokenizer in tokenizers.items():\n",
    "        tokens = tokenizer.tokenize(sentence)\n",
    "        reconstructed = \" | \".join(tokens)\n",
    "        print(name, \":  \", reconstructed)"
   ]
  },
  {
   "cell_type": "code",
   "execution_count": 9,
   "metadata": {},
   "outputs": [
    {
     "name": "stdout",
     "output_type": "stream",
     "text": [
      "Whitesp :   J'utilise | l'appli | TOUT.TV | de | Radio-Canada, | ça | marche | 95% | du | temps.\n",
      "Regex :   J | 'utilise | l | 'appli | TOUT | .TV | de | Radio | -Canada, | ça | marche | 95 | % | du | temps | .\n",
      "Punkt :   J | ' | utilise | l | ' | appli | TOUT | . | TV | de | Radio | - | Canada | , | ça | marche | 95 | % | du | temps | .\n",
      "Tweet :   J'utilise | l'appli | TOUT.TV | de | Radio-Canada | , | ça | marche | 95 | % | du | temps | .\n"
     ]
    }
   ],
   "source": [
    "sent_fr = \"J'utilise l'appli TOUT.TV de Radio-Canada, ça marche 95% du temps.\"\n",
    "compare_tok(sent_fr)"
   ]
  },
  {
   "cell_type": "code",
   "execution_count": 10,
   "metadata": {},
   "outputs": [
    {
     "name": "stdout",
     "output_type": "stream",
     "text": [
      "Whitesp :   C'est | cooool | #bonhommesourire: | :-) | mais | #examen | dans | <5 | semaines | =( | >:o\n",
      "Regex :   C | 'est | cooool | #bonhommesourire: | :-) | mais | #examen | dans | <5 | semaines | =( | >:o\n",
      "Punkt :   C | ' | est | cooool | # | bonhommesourire | : | :-) | mais | # | examen | dans | < | 5 | semaines | =( | >: | o\n",
      "Tweet :   C'est | cooool | #bonhommesourire | : | :-) | mais | #examen | dans | < | 5 | semaines | =( | > | : | o\n"
     ]
    }
   ],
   "source": [
    "sent2_fr = \"C'est cooool #bonhommesourire: :-) mais #examen  dans <5 semaines =( >:o\"\n",
    "compare_tok(sent2_fr)"
   ]
  },
  {
   "cell_type": "markdown",
   "metadata": {},
   "source": [
    "# Normalisation de mots\n",
    "Comparaison du lemmatiseur et des stemmers de NLTK."
   ]
  },
  {
   "cell_type": "code",
   "execution_count": 11,
   "metadata": {},
   "outputs": [
    {
     "name": "stdout",
     "output_type": "stream",
     "text": [
      "WORD\t\tPOS\tLEMME\n",
      "haunting   \tn\thaunting\n",
      "haunting   \tv\thaunt\n",
      "friend   \tn\tfriend\n",
      "friends   \tn\tfriend\n",
      "friendly   \ta\tfriendly\n",
      "drink   \tv\tdrink\n",
      "drunk   \tv\tdrink\n",
      "slowly   \tr\tslowly\n",
      "xyzing   \tv\txyzing\n"
     ]
    }
   ],
   "source": [
    "from nltk.stem import WordNetLemmatizer\n",
    "\n",
    "lemmatizer = WordNetLemmatizer()\n",
    "word_list = [('haunting', 'n'), ('haunting', 'v'), \n",
    "             ('friend', 'n'), ('friends', 'n'), ('friendly', 'a'), \n",
    "             ('drink', 'v'), ('drunk', 'v'),\n",
    "             ('slowly', 'r'), \n",
    "             ('xyzing', 'v')\n",
    "            ]\n",
    "\n",
    "print(\"WORD\\t\\tPOS\\tLEMME\")\n",
    "for word, pos in word_list:\n",
    "    lemmatized = lemmatizer.lemmatize(word, pos)\n",
    "    print(\"{}   \\t{}\\t{}\".format(word, pos, lemmatized))"
   ]
  },
  {
   "cell_type": "code",
   "execution_count": 12,
   "metadata": {},
   "outputs": [
    {
     "name": "stdout",
     "output_type": "stream",
     "text": [
      "WORD\t\tSNOWBALL\tPORTER\t\tLANCASTER\n",
      "haunting   \thaunt\t\thaunt    \thaunt\n",
      "friend   \tfriend\t\tfriend    \tfriend\n",
      "friends   \tfriend\t\tfriend    \tfriend\n",
      "friendly   \tfriend\t\tfriendli    \tfriend\n",
      "drink   \tdrink\t\tdrink    \tdrink\n",
      "drunk   \tdrunk\t\tdrunk    \tdrunk\n",
      "slowly   \tslowli\t\tslowli    \tslow\n",
      "xyzing   \txyze\t\txyze    \txyz\n"
     ]
    }
   ],
   "source": [
    "from nltk.stem import SnowballStemmer\n",
    "from nltk.stem.snowball import PorterStemmer\n",
    "from nltk.stem.lancaster import LancasterStemmer\n",
    "\n",
    "snowball_stemmer = SnowballStemmer('english')\n",
    "porter_stemmer = PorterStemmer()\n",
    "lancaster_stemmer = LancasterStemmer()\n",
    "word_list = ['haunting','friend', 'friends', 'friendly', 'drink', 'drunk', 'slowly', 'xyzing']\n",
    "\n",
    "print(\"WORD\\t\\tSNOWBALL\\tPORTER\\t\\tLANCASTER\")\n",
    "for word in word_list:\n",
    "    snbl_stem = snowball_stemmer.stem(word)\n",
    "    porter_stem = porter_stemmer.stem(word)\n",
    "    lancaster_stem = lancaster_stemmer.stem(word)\n",
    "    print(\"{}   \\t{}\\t\\t{}    \\t{}\".format(word, snbl_stem, porter_stem, lancaster_stem))"
   ]
  },
  {
   "cell_type": "code",
   "execution_count": 13,
   "metadata": {},
   "outputs": [
    {
     "data": {
      "text/plain": [
       "[('ami', 'ami'),\n",
       " ('amis', 'amis'),\n",
       " ('mangerais', 'mang'),\n",
       " ('buvions', 'buvion'),\n",
       " ('étudié', 'étudi'),\n",
       " ('lentement', 'lent'),\n",
       " ('anticonstitutionnellement', 'anticonstitutionnel'),\n",
       " ('intergouvernementalisations', 'intergouvernementalis'),\n",
       " ('xyzing', 'xyzing')]"
      ]
     },
     "metadata": {},
     "output_type": "display_data"
    }
   ],
   "source": [
    "from nltk.stem.snowball import FrenchStemmer\n",
    "\n",
    "stemmer = FrenchStemmer()\n",
    "word_list = ['ami', 'amis', 'mangerais', 'buvions', 'étudié', 'lentement', 'anticonstitutionnellement', 'intergouvernementalisations', 'xyzing']\n",
    "display([(word, stemmer.stem(word)) for word in word_list])"
   ]
  },
  {
   "cell_type": "markdown",
   "metadata": {},
   "source": [
    "## Analyse grammaticale (part-of-speech tagging)\n"
   ]
  },
  {
   "cell_type": "code",
   "execution_count": 14,
   "metadata": {},
   "outputs": [
    {
     "data": {
      "text/plain": [
       "[('You', 'PRP'),\n",
       " ('will', 'MD'),\n",
       " ('have', 'VB'),\n",
       " ('to', 'TO'),\n",
       " ('say', 'VB'),\n",
       " ('goodbye', 'NN'),\n",
       " ('to', 'TO'),\n",
       " ('the', 'DT'),\n",
       " ('classic', 'JJ'),\n",
       " ('MacBook', 'NNP'),\n",
       " ('Pro', 'NNP'),\n",
       " ('.', '.')]"
      ]
     },
     "metadata": {},
     "output_type": "display_data"
    }
   ],
   "source": [
    "import nltk\n",
    "\n",
    "sentence = \"You will have to say goodbye to the classic MacBook Pro.\"\n",
    "tokens = nltk.word_tokenize(sentence)\n",
    "tagged_tokens = nltk.pos_tag(tokens)\n",
    "display(tagged_tokens)"
   ]
  },
  {
   "cell_type": "markdown",
   "metadata": {},
   "source": [
    "# Analyse syntaxique\n"
   ]
  },
  {
   "cell_type": "code",
   "execution_count": 15,
   "metadata": {},
   "outputs": [],
   "source": [
    "groucho_grammar = nltk.CFG.fromstring(\"\"\"\n",
    "S -> NP VP\n",
    "PP -> P NP\n",
    "NP -> Det N | Det N PP | 'I'\n",
    "VP -> V NP | VP PP\n",
    "Det -> 'an' | 'my'\n",
    "N -> 'elephant' | 'pajamas'\n",
    "V -> 'shot'\n",
    "P -> 'in'\n",
    " \"\"\")"
   ]
  },
  {
   "cell_type": "code",
   "execution_count": 16,
   "metadata": {},
   "outputs": [
    {
     "name": "stdout",
     "output_type": "stream",
     "text": [
      "(S\n",
      "  (NP I)\n",
      "  (VP\n",
      "    (VP (V shot) (NP (Det an) (N elephant)))\n",
      "    (PP (P in) (NP (Det my) (N pajamas)))))\n",
      "(S\n",
      "  (NP I)\n",
      "  (VP\n",
      "    (V shot)\n",
      "    (NP (Det an) (N elephant) (PP (P in) (NP (Det my) (N pajamas))))))\n"
     ]
    }
   ],
   "source": [
    "sentence = \"I shot an elephant in my pajamas\"\n",
    "sent_tok = nltk.word_tokenize(sentence)\n",
    "parser = nltk.ChartParser(groucho_grammar)\n",
    "for tree in parser.parse(sent_tok):\n",
    "    print(tree)"
   ]
  },
  {
   "cell_type": "code",
   "execution_count": 17,
   "metadata": {},
   "outputs": [
    {
     "data": {
      "image/png": "[encoded data removed]",
      "text/plain": [
       "Tree('S', [Tree('NP', ['I']), Tree('VP', [Tree('VP', [Tree('V', ['shot']), Tree('NP', [Tree('Det', ['an']), Tree('N', ['elephant'])])]), Tree('PP', [Tree('P', ['in']), Tree('NP', [Tree('Det', ['my']), Tree('N', ['pajamas'])])])])])"
      ]
     },
     "metadata": {},
     "output_type": "display_data"
    },
    {
     "data": {
      "image/png": "[encoded data removed]",
      "text/plain": [
       "Tree('S', [Tree('NP', ['I']), Tree('VP', [Tree('V', ['shot']), Tree('NP', [Tree('Det', ['an']), Tree('N', ['elephant']), Tree('PP', [Tree('P', ['in']), Tree('NP', [Tree('Det', ['my']), Tree('N', ['pajamas'])])])])])])"
      ]
     },
     "metadata": {},
     "output_type": "display_data"
    }
   ],
   "source": [
    "for tree in parser.parse(sent_tok):\n",
    "    display(tree)"
   ]
  },
  {
   "cell_type": "markdown",
   "metadata": {},
   "source": [
    "# Reconnaissance d'entités nommées (named entity recognition)\n"
   ]
  },
  {
   "cell_type": "code",
   "execution_count": 18,
   "metadata": {},
   "outputs": [
    {
     "name": "stdout",
     "output_type": "stream",
     "text": [
      "(S\n",
      "  The/DT\n",
      "  closing/NN\n",
      "  chapter/NN\n",
      "  ,/,\n",
      "  is/VBZ\n",
      "  adapted/VBN\n",
      "  from/IN\n",
      "  the/DT\n",
      "  address/NN\n",
      "  that/IN\n",
      "  (PERSON Feynman/NNP)\n",
      "  gave/VBD\n",
      "  at/IN\n",
      "  the/DT\n",
      "  (ORGANIZATION California/NNP Institute/NNP Of/IN Technology/NNP)\n",
      "  ./.)\n"
     ]
    }
   ],
   "source": [
    "import nltk\n",
    "\n",
    "sentence = \"The closing chapter, is adapted from the address that Feynman gave at the California Institute Of Technology. \"\n",
    "\n",
    "tokens = nltk.word_tokenize(sentence)\n",
    "tagged_tokens = nltk.pos_tag(tokens)\n",
    "ner_annotated_tree = nltk.ne_chunk(tagged_tokens)\n",
    "print(ner_annotated_tree)"
   ]
  },
  {
   "cell_type": "code",
   "execution_count": 19,
   "metadata": {},
   "outputs": [
    {
     "data": {
      "image/png": "[encoded data removed]",
      "text/plain": [
       "Tree('S', [Tree('PERSON', [('Paul', 'NNP')]), ('is', 'VBZ'), ('working', 'VBG'), ('for', 'IN'), Tree('ORGANIZATION', [('Microsoft', 'NNP')]), ('.', '.')])"
      ]
     },
     "metadata": {},
     "output_type": "display_data"
    }
   ],
   "source": [
    "import nltk\n",
    "\n",
    "sentence = \"Paul is working for Microsoft.\"\n",
    "tokens = nltk.word_tokenize(sentence)\n",
    "tagged_tokens = nltk.pos_tag(tokens)\n",
    "ner_annotated_tree = nltk.ne_chunk(tagged_tokens)\n",
    "display(ner_annotated_tree)"
   ]
  }
 ],
 "metadata": {
  "kernelspec": {
   "display_name": "Python 3",
   "language": "python",
   "name": "python3"
  },
  "language_info": {
   "codemirror_mode": {
    "name": "ipython",
    "version": 3
   },
   "file_extension": ".py",
   "mimetype": "text/x-python",
   "name": "python",
   "nbconvert_exporter": "python",
   "pygments_lexer": "ipython3",
   "version": "3.8.6"
  }
 },
 "nbformat": 4,
 "nbformat_minor": 4
}
