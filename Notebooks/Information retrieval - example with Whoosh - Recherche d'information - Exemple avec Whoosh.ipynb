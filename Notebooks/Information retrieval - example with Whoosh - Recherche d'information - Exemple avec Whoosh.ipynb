{
 "cells": [
  {
   "cell_type": "markdown",
   "metadata": {},
   "source": [
    "# Recherche d'information - Exemple avec Whoosh\n",
    "Whoosh est une librairie de recherche d'information qui permet de construire un index inversé et de faire des recherches sur cet index avec des requêtes. À ma connaissance, c'est la seule librairie qui est totalement développée en Python.\n",
    "\n",
    "Dans cet exemple, nous allons utiliser quelques bulletins de nouvelles pour illustrer les étapes de la création d'un index inversé et de la recherche avec cet index.\n",
    "\n",
    "Voir documentation https://whoosh.readthedocs.io/en/latest/index.html\n",
    "\n",
    "## Index inversé - Création de l'index à partir de documents\n",
    "On commence tout d'abord par créer un répertoire sur votre disque pour stocker l'index inversé."
   ]
  },
  {
   "cell_type": "code",
   "execution_count": 3,
   "metadata": {},
   "outputs": [],
   "source": [
    "import os.path\n",
    "\n",
    "inverted_index_dir = \"inverted_index\"\n",
    "\n",
    "if not os.path.exists(inverted_index_dir):\n",
    "    os.mkdir(inverted_index_dir)"
   ]
  },
  {
   "cell_type": "markdown",
   "metadata": {},
   "source": [
    "Par la suite, on définit la structure des documents que l'on veut emmagasiner dans l'index. Dans cet exemple, chaque document a 3 champs: un titre, un contenu et un identifiant (path).\n",
    "\n",
    "Il est important de noter que les champs d'un document ont un type. Par exemple TEXT, NUMERIC, BOOLEAN, DATETIME ou ID (un identifiant). De plus, on peut indiquer au système, avec l'option stored = True, que l'on souhaite stocker les valeurs d'un champs en mémoire, pas seulement les indexer. Dans l'exemple suivant, le champ \"content\" sera indexé et la chaîne de caractère de ce champs sera également conservée en mémoire. Cela permet de retourner le contenu du document pendant une recherche.\n",
    "\n",
    "Par la suite, on utilise la fonction create-in pour initialiser l'index inversé. Finalement, on ajoute un certain nombre de documents dans l'index inversé à l'aide d'un index writer. Et on termine le tout avec un commit."
   ]
  },
  {
   "cell_type": "code",
   "execution_count": 4,
   "metadata": {},
   "outputs": [],
   "source": [
    "from whoosh.fields import Schema, TEXT, ID\n",
    "from whoosh import index\n",
    "\n",
    "schema = Schema(title=TEXT(stored=True), path=ID(stored=True), content=TEXT(stored = True))\n",
    "ix = index.create_in(inverted_index_dir, schema)\n",
    "\n",
    "docs = [\n",
    "       {\"title\": u\"Python set to overtake Java\", \n",
    "        \"content\": u\"Java's popularity continued to decline this month, almost clearing the path for Python to snatch its spot as the world's second most popular programming language\", \n",
    "        \"path\": u\"doc1\"},\n",
    "       {\"title\": u\"Apple Confirms Serious New Problems For iPhone Users\", \n",
    "        \"content\": u\"In iOS 14, iPhone owners have received one of the best generational upgrades in years, but it is far from bug free.\", \n",
    "        \"path\": u\"doc2\"},\n",
    "       {\"title\": u\"GeForce RTX 3080 and 3090 Shortages\", \n",
    "        \"content\": u\"If you thought it would become easier to purchase an Nvidia RTX 3080 or 3090 by the end of the year, you might be wrong.\", \n",
    "        \"path\": u\"doc3\"},\n",
    "       {\"title\": u\"Nvidia publicly apologizes for RTX 3080 launch\", \n",
    "        \"content\": u\"Nvidia has apologized for the RTX 3080 GPU preorder fiasco, which saw the highly desirable graphics card sold out pretty much everywhere.\", \n",
    "        \"path\": u\"doc4\"},\n",
    "       {\"title\": u\"Apple Releases tvOS 14.0.2 With Bug Fixes\", \n",
    "        \"content\": u\"Apple today released tvOS 14.0.2, the second update to the tvOS 14 operating system that was released on September 16.\", \n",
    "        \"path\": u\"doc5\"}\n",
    "       ]\n",
    "\n",
    "writer = ix.writer()\n",
    "for doc in docs:\n",
    "    writer.add_document(title=doc[\"title\"], content=doc[\"content\"], path=doc[\"path\"]) \n",
    "writer.commit()"
   ]
  },
  {
   "cell_type": "markdown",
   "metadata": {},
   "source": [
    "### Information sur l'index inversé - IndexReader et Postings\n",
    "\n",
    "Il est possible d'obtenir de l'information sur l'index inversé à l'aide de la classe IndexReader."
   ]
  },
  {
   "cell_type": "code",
   "execution_count": 5,
   "metadata": {},
   "outputs": [
    {
     "name": "stdout",
     "output_type": "stream",
     "text": [
      "\n",
      "Nombre de documents dans l'index inversé:  5\n",
      "Les identifiants des documents sont:  ['doc1', 'doc2', 'doc3', 'doc4', 'doc5']\n"
     ]
    },
    {
     "data": {
      "text/html": [
       "<div>\n",
       "<style scoped>\n",
       "    .dataframe tbody tr th:only-of-type {\n",
       "        vertical-align: middle;\n",
       "    }\n",
       "\n",
       "    .dataframe tbody tr th {\n",
       "        vertical-align: top;\n",
       "    }\n",
       "\n",
       "    .dataframe thead th {\n",
       "        text-align: right;\n",
       "    }\n",
       "</style>\n",
       "<table border=\"1\" class=\"dataframe\">\n",
       "  <thead>\n",
       "    <tr style=\"text-align: right;\">\n",
       "      <th></th>\n",
       "      <th>Nb de documents</th>\n",
       "      <th>Liste de postings</th>\n",
       "    </tr>\n",
       "  </thead>\n",
       "  <tbody>\n",
       "    <tr>\n",
       "      <th>java</th>\n",
       "      <td>1</td>\n",
       "      <td>[doc1]</td>\n",
       "    </tr>\n",
       "    <tr>\n",
       "      <th>language</th>\n",
       "      <td>1</td>\n",
       "      <td>[doc1]</td>\n",
       "    </tr>\n",
       "    <tr>\n",
       "      <th>might</th>\n",
       "      <td>1</td>\n",
       "      <td>[doc3]</td>\n",
       "    </tr>\n",
       "    <tr>\n",
       "      <th>month</th>\n",
       "      <td>1</td>\n",
       "      <td>[doc1]</td>\n",
       "    </tr>\n",
       "    <tr>\n",
       "      <th>most</th>\n",
       "      <td>1</td>\n",
       "      <td>[doc1]</td>\n",
       "    </tr>\n",
       "    <tr>\n",
       "      <th>much</th>\n",
       "      <td>1</td>\n",
       "      <td>[doc4]</td>\n",
       "    </tr>\n",
       "    <tr>\n",
       "      <th>nvidia</th>\n",
       "      <td>2</td>\n",
       "      <td>[doc3, doc4]</td>\n",
       "    </tr>\n",
       "    <tr>\n",
       "      <th>one</th>\n",
       "      <td>1</td>\n",
       "      <td>[doc2]</td>\n",
       "    </tr>\n",
       "    <tr>\n",
       "      <th>operating</th>\n",
       "      <td>1</td>\n",
       "      <td>[doc5]</td>\n",
       "    </tr>\n",
       "    <tr>\n",
       "      <th>out</th>\n",
       "      <td>1</td>\n",
       "      <td>[doc4]</td>\n",
       "    </tr>\n",
       "    <tr>\n",
       "      <th>owners</th>\n",
       "      <td>1</td>\n",
       "      <td>[doc2]</td>\n",
       "    </tr>\n",
       "    <tr>\n",
       "      <th>path</th>\n",
       "      <td>1</td>\n",
       "      <td>[doc1]</td>\n",
       "    </tr>\n",
       "    <tr>\n",
       "      <th>popular</th>\n",
       "      <td>1</td>\n",
       "      <td>[doc1]</td>\n",
       "    </tr>\n",
       "    <tr>\n",
       "      <th>popularity</th>\n",
       "      <td>1</td>\n",
       "      <td>[doc1]</td>\n",
       "    </tr>\n",
       "    <tr>\n",
       "      <th>preorder</th>\n",
       "      <td>1</td>\n",
       "      <td>[doc4]</td>\n",
       "    </tr>\n",
       "    <tr>\n",
       "      <th>pretty</th>\n",
       "      <td>1</td>\n",
       "      <td>[doc4]</td>\n",
       "    </tr>\n",
       "    <tr>\n",
       "      <th>programming</th>\n",
       "      <td>1</td>\n",
       "      <td>[doc1]</td>\n",
       "    </tr>\n",
       "    <tr>\n",
       "      <th>purchase</th>\n",
       "      <td>1</td>\n",
       "      <td>[doc3]</td>\n",
       "    </tr>\n",
       "    <tr>\n",
       "      <th>python</th>\n",
       "      <td>1</td>\n",
       "      <td>[doc1]</td>\n",
       "    </tr>\n",
       "    <tr>\n",
       "      <th>received</th>\n",
       "      <td>1</td>\n",
       "      <td>[doc2]</td>\n",
       "    </tr>\n",
       "    <tr>\n",
       "      <th>released</th>\n",
       "      <td>1</td>\n",
       "      <td>[doc5]</td>\n",
       "    </tr>\n",
       "    <tr>\n",
       "      <th>rtx</th>\n",
       "      <td>2</td>\n",
       "      <td>[doc3, doc4]</td>\n",
       "    </tr>\n",
       "    <tr>\n",
       "      <th>saw</th>\n",
       "      <td>1</td>\n",
       "      <td>[doc4]</td>\n",
       "    </tr>\n",
       "    <tr>\n",
       "      <th>second</th>\n",
       "      <td>2</td>\n",
       "      <td>[doc1, doc5]</td>\n",
       "    </tr>\n",
       "    <tr>\n",
       "      <th>september</th>\n",
       "      <td>1</td>\n",
       "      <td>[doc5]</td>\n",
       "    </tr>\n",
       "    <tr>\n",
       "      <th>snatch</th>\n",
       "      <td>1</td>\n",
       "      <td>[doc1]</td>\n",
       "    </tr>\n",
       "    <tr>\n",
       "      <th>sold</th>\n",
       "      <td>1</td>\n",
       "      <td>[doc4]</td>\n",
       "    </tr>\n",
       "    <tr>\n",
       "      <th>spot</th>\n",
       "      <td>1</td>\n",
       "      <td>[doc1]</td>\n",
       "    </tr>\n",
       "    <tr>\n",
       "      <th>system</th>\n",
       "      <td>1</td>\n",
       "      <td>[doc5]</td>\n",
       "    </tr>\n",
       "  </tbody>\n",
       "</table>\n",
       "</div>"
      ],
      "text/plain": [
       "             Nb de documents Liste de postings\n",
       "java                       1            [doc1]\n",
       "language                   1            [doc1]\n",
       "might                      1            [doc3]\n",
       "month                      1            [doc1]\n",
       "most                       1            [doc1]\n",
       "much                       1            [doc4]\n",
       "nvidia                     2      [doc3, doc4]\n",
       "one                        1            [doc2]\n",
       "operating                  1            [doc5]\n",
       "out                        1            [doc4]\n",
       "owners                     1            [doc2]\n",
       "path                       1            [doc1]\n",
       "popular                    1            [doc1]\n",
       "popularity                 1            [doc1]\n",
       "preorder                   1            [doc4]\n",
       "pretty                     1            [doc4]\n",
       "programming                1            [doc1]\n",
       "purchase                   1            [doc3]\n",
       "python                     1            [doc1]\n",
       "received                   1            [doc2]\n",
       "released                   1            [doc5]\n",
       "rtx                        2      [doc3, doc4]\n",
       "saw                        1            [doc4]\n",
       "second                     2      [doc1, doc5]\n",
       "september                  1            [doc5]\n",
       "snatch                     1            [doc1]\n",
       "sold                       1            [doc4]\n",
       "spot                       1            [doc1]\n",
       "system                     1            [doc5]"
      ]
     },
     "metadata": {},
     "output_type": "display_data"
    }
   ],
   "source": [
    "import pandas as pd\n",
    "from whoosh.reading import IndexReader\n",
    "    \n",
    "with ix.reader() as reader:\n",
    "    field = \"content\"\n",
    "    docs_path = {docnum: x[\"path\"] for docnum, x in reader.iter_docs()}\n",
    "    # terms = reader.field_terms(field)\n",
    "    print(\"\\nNombre de documents dans l'index inversé: \", reader.doc_count())\n",
    "    print(\"Les identifiants des documents sont: \", list(docs_path.values()))\n",
    "    term_features = dict()\n",
    "    for term in reader.field_terms(field):\n",
    "        info = reader.term_info(field, term)\n",
    "        postings = reader.postings(field, term)\n",
    "        posting_list = [docs_path[x] for x in postings.all_ids()]\n",
    "        term_features[term] = [info.doc_frequency(), posting_list]\n",
    "    feature_names = [\"Nb de documents\", \"Liste de postings\"]\n",
    "    df = pd.DataFrame.from_dict(term_features, orient='index', columns=feature_names)\n",
    "    display(df[31:60])"
   ]
  },
  {
   "cell_type": "markdown",
   "metadata": {},
   "source": [
    "## Recherche - Faire le matching d'une requête avec l'index inversé\n",
    "Une fois la création de l'index inversé complétée, on peut effectuer une recherche à l'aide d'une requête par mots clés. La séquence de traitement est la suivante:\n",
    "\n",
    "* la création d'un objet pour effectuer la recherche sur l'index inversé (searcher)\n",
    "* l'analyse de la requête avec un analyseur (classe QueryParser)\n",
    "* la recherche de document (fonction search)\n",
    "* l'affichage des résultats de la recherche."
   ]
  },
  {
   "cell_type": "code",
   "execution_count": 6,
   "metadata": {},
   "outputs": [],
   "source": [
    "from whoosh.qparser import QueryParser\n",
    "\n",
    "def search_content(query, inverted_index):\n",
    "    with inverted_index.searcher() as searcher:\n",
    "        field = \"content\"\n",
    "        schema = inverted_index.schema\n",
    "        query_parser = QueryParser(field, schema)\n",
    "        query = query_parser.parse(query)\n",
    "        print(\"REQUÊTE: \", query)\n",
    "        results = searcher.search(query, terms=True)\n",
    "        show_hits(results)\n",
    "        \n",
    "def show_hits(results): \n",
    "    print(\"\\nNOMBRE DE DOCUMENTS RETOURNÉ: \", len(results))\n",
    "    with ix.searcher() as searcher:\n",
    "        for hit in results:\n",
    "            print (\"\\nDOC: \", hit)\n",
    "            print (\"SCORE: \", hit.score)\n",
    "            # Was this results object created with terms=True?\n",
    "            if results.has_matched_terms():\n",
    "                # What terms matched in the results?\n",
    "                print(\"TERMES PRÉSENTS: \", hit.matched_terms())    "
   ]
  },
  {
   "cell_type": "markdown",
   "metadata": {},
   "source": [
    "Voici un premier exemple de recherche avec les mots clés Nvidia et RTX. Cette recherche retourne les documents doc3 et doc4.\n",
    "\n"
   ]
  },
  {
   "cell_type": "code",
   "execution_count": 7,
   "metadata": {},
   "outputs": [
    {
     "name": "stdout",
     "output_type": "stream",
     "text": [
      "REQUÊTE:  (content:nvidia AND content:rtx)\n",
      "\n",
      "NOMBRE DE DOCUMENTS RETOURNÉ:  2\n",
      "\n",
      "DOC:  <Hit {'content': 'If you thought it would become easier to purchase an Nvidia RTX 3080 or 3090 by the end of the year, you might be wrong.', 'path': 'doc3', 'title': 'GeForce RTX 3080 and 3090 Shortages'}>\n",
      "SCORE:  3.2578349058378313\n",
      "TERMES PRÉSENTS:  [('content', b'nvidia'), ('content', b'rtx')]\n",
      "\n",
      "DOC:  <Hit {'content': 'Nvidia has apologized for the RTX 3080 GPU preorder fiasco, which saw the highly desirable graphics card sold out pretty much everywhere.', 'path': 'doc4', 'title': 'Nvidia publicly apologizes for RTX 3080 launch'}>\n",
      "SCORE:  2.7252879440636146\n",
      "TERMES PRÉSENTS:  [('content', b'nvidia'), ('content', b'rtx')]\n"
     ]
    }
   ],
   "source": [
    "query1 = \"Nvidia RTX\"\n",
    "results = search_content(query1, ix)"
   ]
  },
  {
   "cell_type": "markdown",
   "metadata": {},
   "source": [
    "### À propos de l'analyse de questions...\n",
    "\n",
    "Essayons maintenant avec 2 autres mots clé: Apple et iPhone."
   ]
  },
  {
   "cell_type": "code",
   "execution_count": 8,
   "metadata": {},
   "outputs": [
    {
     "name": "stdout",
     "output_type": "stream",
     "text": [
      "REQUÊTE:  (content:apple AND content:iphone)\n",
      "\n",
      "NOMBRE DE DOCUMENTS RETOURNÉ:  0\n"
     ]
    }
   ],
   "source": [
    "query = \"Apple iPhone\"\n",
    "results = search_content(query, ix)"
   ]
  },
  {
   "cell_type": "markdown",
   "metadata": {},
   "source": [
    "Aucun résultat! Pourtant Apple et iPhone sont respectivement présents dans le champ content des documents doc5 et doc3.\n",
    "\n",
    "Il est important de noter ici que, par défaut, le QueryParsing suppose qu'on cherche une conjonction de mots (mot1 AND mot2 AND...). Pour effectuer une recherche partielle (c.-à-d. retrouver des documents contenant un sous-ensemble de mots), on peut ajouter des opérateurs OR dans la formulation de la requête."
   ]
  },
  {
   "cell_type": "code",
   "execution_count": 9,
   "metadata": {},
   "outputs": [
    {
     "name": "stdout",
     "output_type": "stream",
     "text": [
      "REQUÊTE:  (content:apple OR content:iphone)\n",
      "\n",
      "NOMBRE DE DOCUMENTS RETOURNÉ:  2\n",
      "\n",
      "DOC:  <Hit {'content': 'In iOS 14, iPhone owners have received one of the best generational upgrades in years, but it is far from bug free.', 'path': 'doc2', 'title': 'Apple Confirms Serious New Problems For iPhone Users'}>\n",
      "SCORE:  2.009965776703248\n",
      "TERMES PRÉSENTS:  [('content', b'iphone')]\n",
      "\n",
      "DOC:  <Hit {'content': 'Apple today released tvOS 14.0.2, the second update to the tvOS 14 operating system that was released on September 16.', 'path': 'doc5', 'title': 'Apple Releases tvOS 14.0.2 With Bug Fixes'}>\n",
      "SCORE:  1.9064185987391422\n",
      "TERMES PRÉSENTS:  [('content', b'apple')]\n"
     ]
    }
   ],
   "source": [
    "query = \"Apple OR iPhone\"\n",
    "results = search_content(query, ix)"
   ]
  },
  {
   "cell_type": "markdown",
   "metadata": {},
   "source": [
    "Ou bien indiquer au QueryParser de rechercher n'importe lequel des termes dans la requête (option group=qparser.OrGroup). La fonction de recherche devient alors:"
   ]
  },
  {
   "cell_type": "code",
   "execution_count": 10,
   "metadata": {},
   "outputs": [
    {
     "name": "stdout",
     "output_type": "stream",
     "text": [
      "REQUÊTE:  (content:apple OR content:iphone)\n",
      "\n",
      "NOMBRE DE DOCUMENTS RETOURNÉ:  2\n",
      "\n",
      "DOC:  <Hit {'content': 'In iOS 14, iPhone owners have received one of the best generational upgrades in years, but it is far from bug free.', 'path': 'doc2', 'title': 'Apple Confirms Serious New Problems For iPhone Users'}>\n",
      "SCORE:  2.009965776703248\n",
      "TERMES PRÉSENTS:  [('content', b'iphone')]\n",
      "\n",
      "DOC:  <Hit {'content': 'Apple today released tvOS 14.0.2, the second update to the tvOS 14 operating system that was released on September 16.', 'path': 'doc5', 'title': 'Apple Releases tvOS 14.0.2 With Bug Fixes'}>\n",
      "SCORE:  1.9064185987391422\n",
      "TERMES PRÉSENTS:  [('content', b'apple')]\n"
     ]
    }
   ],
   "source": [
    "from whoosh.qparser import OrGroup, AndGroup\n",
    "\n",
    "def search_content_or(query, inverted_index):\n",
    "    with inverted_index.searcher() as searcher:\n",
    "        field = \"content\"\n",
    "        schema = inverted_index.schema\n",
    "        query_parser = QueryParser(field, schema, group=OrGroup)  # MODIFICATION - peut être passé en argument\n",
    "        query = query_parser.parse(query)\n",
    "        print(\"REQUÊTE: \", query)\n",
    "        results = searcher.search(query, terms=True)\n",
    "        show_hits(results)\n",
    "\n",
    "query = \"Apple iPhone\"\n",
    "results = search_content_or(query, ix)"
   ]
  },
  {
   "cell_type": "markdown",
   "metadata": {},
   "source": [
    "Il est également possible de rechercher des documents qui ne contiennent pas un ou plusieurs termes spécifiques.\n",
    "\n"
   ]
  },
  {
   "cell_type": "code",
   "execution_count": 11,
   "metadata": {},
   "outputs": [
    {
     "name": "stdout",
     "output_type": "stream",
     "text": [
      "REQUÊTE:  NOT content:nvidia\n",
      "\n",
      "NOMBRE DE DOCUMENTS RETOURNÉ:  3\n",
      "\n",
      "DOC:  <Hit {'content': \"Java's popularity continued to decline this month, almost clearing the path for Python to snatch its spot as the world's second most popular programming language\", 'path': 'doc1', 'title': 'Python set to overtake Java'}>\n",
      "SCORE:  1.0\n",
      "TERMES PRÉSENTS:  []\n",
      "\n",
      "DOC:  <Hit {'content': 'In iOS 14, iPhone owners have received one of the best generational upgrades in years, but it is far from bug free.', 'path': 'doc2', 'title': 'Apple Confirms Serious New Problems For iPhone Users'}>\n",
      "SCORE:  1.0\n",
      "TERMES PRÉSENTS:  []\n",
      "\n",
      "DOC:  <Hit {'content': 'Apple today released tvOS 14.0.2, the second update to the tvOS 14 operating system that was released on September 16.', 'path': 'doc5', 'title': 'Apple Releases tvOS 14.0.2 With Bug Fixes'}>\n",
      "SCORE:  1.0\n",
      "TERMES PRÉSENTS:  []\n"
     ]
    }
   ],
   "source": [
    "query = \"NOT Nvidia\"\n",
    "results = search_content(query, ix)"
   ]
  },
  {
   "cell_type": "markdown",
   "metadata": {},
   "source": [
    "Ou n'importe quelle combinaison booléenne de mots clé.\n",
    "\n"
   ]
  },
  {
   "cell_type": "code",
   "execution_count": 12,
   "metadata": {},
   "outputs": [
    {
     "name": "stdout",
     "output_type": "stream",
     "text": [
      "REQUÊTE:  (content:iphone AND NOT (content:tvos OR content:apple))\n",
      "\n",
      "NOMBRE DE DOCUMENTS RETOURNÉ:  1\n",
      "\n",
      "DOC:  <Hit {'content': 'In iOS 14, iPhone owners have received one of the best generational upgrades in years, but it is far from bug free.', 'path': 'doc2', 'title': 'Apple Confirms Serious New Problems For iPhone Users'}>\n",
      "SCORE:  3.009965776703248\n",
      "TERMES PRÉSENTS:  [('content', b'iphone')]\n"
     ]
    }
   ],
   "source": [
    "query = \"iPhone NOT (tvOS OR Apple)\"\n",
    "results = search_content(query, ix)"
   ]
  },
  {
   "cell_type": "markdown",
   "metadata": {},
   "source": [
    "### Recherche sur plusieurs champs d'un document\n",
    "\n",
    "Il est possible de mener une recherche conjointement sur plusieurs champs d'un même document grâce à la classe MultifieldParser."
   ]
  },
  {
   "cell_type": "code",
   "execution_count": 13,
   "metadata": {},
   "outputs": [
    {
     "name": "stdout",
     "output_type": "stream",
     "text": [
      "REQUÊTE:  ((title:geforce OR content:geforce) AND (title:nvidia OR content:nvidia) AND (title:rtx OR content:rtx))\n",
      "\n",
      "NOMBRE DE DOCUMENTS RETOURNÉ:  1\n",
      "\n",
      "DOC:  <Hit {'content': 'If you thought it would become easier to purchase an Nvidia RTX 3080 or 3090 by the end of the year, you might be wrong.', 'path': 'doc3', 'title': 'GeForce RTX 3080 and 3090 Shortages'}>\n",
      "SCORE:  6.842051671668612\n",
      "TERMES PRÉSENTS:  [('title', b'rtx'), ('content', b'rtx'), ('content', b'nvidia'), ('title', b'geforce')]\n"
     ]
    }
   ],
   "source": [
    "from whoosh.qparser import MultifieldParser\n",
    "\n",
    "\n",
    "def search_multifields(query, fields, inverted_index):\n",
    "    with inverted_index.searcher() as searcher:\n",
    "        schema = inverted_index.schema\n",
    "        query_parser = MultifieldParser(fields, schema) \n",
    "        query = query_parser.parse(query)\n",
    "        print(\"REQUÊTE: \", query)\n",
    "        results = searcher.search(query, terms=True)\n",
    "        show_hits(results)\n",
    "\n",
    "search_multifields(\"GeForce Nvidia RTX\", [\"title\", \"content\"], ix)"
   ]
  }
 ],
 "metadata": {
  "kernelspec": {
   "display_name": "Python 3",
   "language": "python",
   "name": "python3"
  },
  "language_info": {
   "codemirror_mode": {
    "name": "ipython",
    "version": 3
   },
   "file_extension": ".py",
   "mimetype": "text/x-python",
   "name": "python",
   "nbconvert_exporter": "python",
   "pygments_lexer": "ipython3",
   "version": "3.8.6"
  }
 },
 "nbformat": 4,
 "nbformat_minor": 4
}
