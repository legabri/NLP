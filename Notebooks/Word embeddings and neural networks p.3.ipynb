{
 "cells": [
  {
   "cell_type": "markdown",
   "metadata": {},
   "source": [
    "## Exemples avec des plongements de mots (word embeddings)\n",
    "\n",
    "### Importation de la table d'embeddings en utilisant Gensim"
   ]
  },
  {
   "cell_type": "code",
   "execution_count": 3,
   "metadata": {},
   "outputs": [
    {
     "name": "stdout",
     "output_type": "stream",
     "text": [
      "[==================================================] 100.0% 1662.8/1662.8MB downloaded\n"
     ]
    }
   ],
   "source": [
    "import gensim.downloader as api\n",
    "# model = api.load('glove-wiki-gigaword-300')\n",
    "model = api.load('word2vec-google-news-300')"
   ]
  },
  {
   "cell_type": "markdown",
   "metadata": {},
   "source": [
    "## Similarité sémantique entre les mots¶\n"
   ]
  },
  {
   "cell_type": "code",
   "execution_count": 4,
   "metadata": {},
   "outputs": [
    {
     "data": {
      "text/plain": [
       "[('Pierre_Trudeau', 0.6165754199028015),\n",
       " ('Diefenbaker', 0.6101330518722534),\n",
       " ('Jean_Chrétien', 0.6100590229034424),\n",
       " ('Ignatieff', 0.5908867716789246),\n",
       " ('Chrétien', 0.5895172953605652),\n",
       " ('Charest', 0.5866594314575195),\n",
       " ('Chretien', 0.5819708704948425),\n",
       " ('Stephen_Harper', 0.5688163042068481),\n",
       " ('Harper', 0.5630610585212708),\n",
       " ('Robichaud', 0.5625982284545898)]"
      ]
     },
     "execution_count": 4,
     "metadata": {},
     "output_type": "execute_result"
    }
   ],
   "source": [
    "model.most_similar(\"Trudeau\")\n"
   ]
  },
  {
   "cell_type": "code",
   "execution_count": 5,
   "metadata": {},
   "outputs": [
    {
     "data": {
      "text/plain": [
       "[('apples', 0.720359742641449),\n",
       " ('pear', 0.6450697183609009),\n",
       " ('fruit', 0.6410146355628967),\n",
       " ('berry', 0.6302294731140137),\n",
       " ('pears', 0.6133961081504822),\n",
       " ('strawberry', 0.6058261394500732),\n",
       " ('peach', 0.6025872230529785),\n",
       " ('potato', 0.5960935354232788),\n",
       " ('grape', 0.5935864448547363),\n",
       " ('blueberry', 0.5866668224334717)]"
      ]
     },
     "execution_count": 5,
     "metadata": {},
     "output_type": "execute_result"
    }
   ],
   "source": [
    "model.most_similar(\"apple\")\n"
   ]
  },
  {
   "cell_type": "code",
   "execution_count": 6,
   "metadata": {},
   "outputs": [
    {
     "data": {
      "text/plain": [
       "[('Apple_AAPL', 0.7456986308097839),\n",
       " ('Apple_Nasdaq_AAPL', 0.7300410270690918),\n",
       " ('Apple_NASDAQ_AAPL', 0.7175089120864868),\n",
       " ('Apple_Computer', 0.7145972847938538),\n",
       " ('iPhone', 0.6924266815185547),\n",
       " ('Apple_NSDQ_AAPL', 0.6868603825569153),\n",
       " ('Steve_Jobs', 0.6758422255516052),\n",
       " ('iPad', 0.6580768823623657),\n",
       " ('Apple_nasdaq_AAPL', 0.6444970965385437),\n",
       " ('AAPL_PriceWatch_Alert', 0.6439753770828247)]"
      ]
     },
     "execution_count": 6,
     "metadata": {},
     "output_type": "execute_result"
    }
   ],
   "source": [
    "model.most_similar(\"Apple\")\n"
   ]
  },
  {
   "cell_type": "code",
   "execution_count": 7,
   "metadata": {},
   "outputs": [
    {
     "data": {
      "text/plain": [
       "[('NORWALK_CONN', 0.23768547177314758),\n",
       " ('JIM_HANNON_TimesDaily', 0.2376764416694641),\n",
       " ('KITCHENER_ONTARIO', 0.23705118894577026),\n",
       " ('DENVER_CO_PRWEB', 0.23474791646003723),\n",
       " ('GRANDE_BAY_MAURITIUS', 0.23164315521717072),\n",
       " ('Dr._Parviz_Azar', 0.22826240956783295),\n",
       " ('HuMax_IL8_TM', 0.22697211802005768),\n",
       " ('subsidiary_Airstar', 0.22571393847465515),\n",
       " ('AB_OMX_Stockholm', 0.2248857617378235),\n",
       " ('MotoTron_electronic_controls', 0.22116822004318237)]"
      ]
     },
     "execution_count": 7,
     "metadata": {},
     "output_type": "execute_result"
    }
   ],
   "source": [
    "model.most_similar(negative=[\"banana\"])\n"
   ]
  },
  {
   "cell_type": "markdown",
   "metadata": {},
   "source": [
    "## Quelques analogies\n"
   ]
  },
  {
   "cell_type": "code",
   "execution_count": 8,
   "metadata": {},
   "outputs": [
    {
     "data": {
      "text/plain": [
       "[('queen', 0.7118192315101624),\n",
       " ('monarch', 0.6189674139022827),\n",
       " ('princess', 0.5902431011199951),\n",
       " ('crown_prince', 0.5499460697174072),\n",
       " ('prince', 0.5377321839332581),\n",
       " ('kings', 0.5236844420433044),\n",
       " ('Queen_Consort', 0.5235945582389832),\n",
       " ('queens', 0.5181134343147278),\n",
       " ('sultan', 0.5098593235015869),\n",
       " ('monarchy', 0.5087411403656006)]"
      ]
     },
     "execution_count": 8,
     "metadata": {},
     "output_type": "execute_result"
    }
   ],
   "source": [
    "model.most_similar(positive=['woman','king'], negative=['man'])\n"
   ]
  },
  {
   "cell_type": "code",
   "execution_count": 9,
   "metadata": {},
   "outputs": [
    {
     "data": {
      "text/plain": [
       "'queen'"
      ]
     },
     "execution_count": 9,
     "metadata": {},
     "output_type": "execute_result"
    }
   ],
   "source": [
    "def analogie(word_1, word_2, word_3):\n",
    "    # word_1 est au word_2 ce que le word_3 est au mot <valeur_retournée>\n",
    "    resultats = model.most_similar(positive=[word_2,word_3], negative=[word_1])\n",
    "    return resultats[0][0]\n",
    "\n",
    "analogie(\"man\",\"king\",\"woman\")\n"
   ]
  },
  {
   "cell_type": "code",
   "execution_count": 10,
   "metadata": {},
   "outputs": [
    {
     "data": {
      "text/plain": [
       "'ontario'"
      ]
     },
     "execution_count": 10,
     "metadata": {},
     "output_type": "execute_result"
    }
   ],
   "source": [
    "analogie(\"paris\",\"france\",\"ottawa\")\n"
   ]
  },
  {
   "cell_type": "code",
   "execution_count": 11,
   "metadata": {},
   "outputs": [
    {
     "data": {
      "text/plain": [
       "'Canada'"
      ]
     },
     "execution_count": 11,
     "metadata": {},
     "output_type": "execute_result"
    }
   ],
   "source": [
    "analogie(\"Paris\",\"France\",\"Toronto\")\n"
   ]
  },
  {
   "cell_type": "code",
   "execution_count": 12,
   "metadata": {},
   "outputs": [
    {
     "data": {
      "text/plain": [
       "'Quebec'"
      ]
     },
     "execution_count": 12,
     "metadata": {},
     "output_type": "execute_result"
    }
   ],
   "source": [
    "analogie(\"Paris\",\"France\",\"Québec\")\n"
   ]
  },
  {
   "cell_type": "code",
   "execution_count": 13,
   "metadata": {},
   "outputs": [
    {
     "data": {
      "text/plain": [
       "'Windows'"
      ]
     },
     "execution_count": 13,
     "metadata": {},
     "output_type": "execute_result"
    }
   ],
   "source": [
    "analogie(\"Apple\",\"iOS\",\"Microsoft\")\n"
   ]
  },
  {
   "cell_type": "code",
   "execution_count": 14,
   "metadata": {},
   "outputs": [
    {
     "data": {
      "text/plain": [
       "'Windows_XP'"
      ]
     },
     "execution_count": 14,
     "metadata": {},
     "output_type": "execute_result"
    }
   ],
   "source": [
    "analogie(\"Linux\",\"Ubuntu\",\"Windows\")\n"
   ]
  },
  {
   "cell_type": "code",
   "execution_count": 15,
   "metadata": {},
   "outputs": [
    {
     "data": {
      "text/plain": [
       "'Mario'"
      ]
     },
     "execution_count": 15,
     "metadata": {},
     "output_type": "execute_result"
    }
   ],
   "source": [
    "analogie(\"Link\", \"Zelda\", \"Luigi\")\n"
   ]
  },
  {
   "cell_type": "code",
   "execution_count": 16,
   "metadata": {},
   "outputs": [
    {
     "data": {
      "text/plain": [
       "'worst'"
      ]
     },
     "execution_count": 16,
     "metadata": {},
     "output_type": "execute_result"
    }
   ],
   "source": [
    "analogie(\"good\",\"best\",\"bad\")\n"
   ]
  },
  {
   "cell_type": "code",
   "execution_count": 17,
   "metadata": {},
   "outputs": [
    {
     "name": "stderr",
     "output_type": "stream",
     "text": [
      "C:\\Users\\GARIJ\\AppData\\Roaming\\Python\\Python38\\site-packages\\gensim\\models\\keyedvectors.py:877: FutureWarning: arrays to stack must be passed as a \"sequence\" type such as list or tuple. Support for non-sequence iterables such as generators is deprecated as of NumPy 1.16 and will raise an error in the future.\n",
      "  vectors = vstack(self.word_vec(word, use_norm=True) for word in used_words).astype(REAL)\n"
     ]
    },
    {
     "data": {
      "text/plain": [
       "'cereal'"
      ]
     },
     "execution_count": 17,
     "metadata": {},
     "output_type": "execute_result"
    }
   ],
   "source": [
    "model.doesnt_match([\"breakfast\", \"cereal\", \"dinner\", \"lunch\"])\n"
   ]
  },
  {
   "cell_type": "code",
   "execution_count": 18,
   "metadata": {},
   "outputs": [
    {
     "data": {
      "text/plain": [
       "'Germany'"
      ]
     },
     "execution_count": 18,
     "metadata": {},
     "output_type": "execute_result"
    }
   ],
   "source": [
    "analogie(\"poutine\",\"Canada\",\"sauerkraut\")\n"
   ]
  },
  {
   "cell_type": "markdown",
   "metadata": {},
   "source": [
    "# Malheusement, ça ne marche pas à tout coup...\n"
   ]
  },
  {
   "cell_type": "code",
   "execution_count": 19,
   "metadata": {},
   "outputs": [
    {
     "data": {
      "text/plain": [
       "'United_States'"
      ]
     },
     "execution_count": 19,
     "metadata": {},
     "output_type": "execute_result"
    }
   ],
   "source": [
    "analogie(\"poutine\",\"Canada\",\"couscous\")\n"
   ]
  },
  {
   "cell_type": "code",
   "execution_count": 20,
   "metadata": {},
   "outputs": [
    {
     "data": {
      "text/plain": [
       "'handset'"
      ]
     },
     "execution_count": 20,
     "metadata": {},
     "output_type": "execute_result"
    }
   ],
   "source": [
    "analogie(\"Apple\",\"iPhone\",\"Samsung\")\n"
   ]
  },
  {
   "cell_type": "markdown",
   "metadata": {},
   "source": [
    "## Visualisation des plongements de mots\n"
   ]
  },
  {
   "cell_type": "code",
   "execution_count": 21,
   "metadata": {},
   "outputs": [],
   "source": [
    "from sklearn.decomposition import PCA\n",
    "import numpy as np\n",
    "import matplotlib.pyplot as plt \n",
    "import random \n",
    "\n",
    "\n",
    "def get_words_to_project(words, nb_additionnal=0):\n",
    "    additionnal_words = []\n",
    "    if nb_additionnal > 0:\n",
    "        additionnal_words = random.sample(model.vocab.keys(),nb_additionnal)\n",
    "    return words + additionnal_words\n",
    "\n",
    "def get_2d_projection(model, words):\n",
    "    word_vectors = np.array([model[word] for word in words])\n",
    "    projected_vectors = PCA().fit_transform(word_vectors)[:,:2]\n",
    "    return words, projected_vectors\n",
    "\n",
    "def plot_2d_projection(words, vectors):\n",
    "    plt.figure(figsize=(12,12))\n",
    "    plt.scatter(vectors[:,0], vectors[:,1], edgecolors='k',c='r')\n",
    "    for word, (x, y) in zip(words, vectors):\n",
    "        plt.text(x+0.05, y+0.05, word)\n",
    "        \n",
    "def plot_2d_analogie(model, word_1, word_2, word_3):\n",
    "    analogy_word = analogie(word_1, word_2, word_3)\n",
    "    words = get_words_to_project([word_1, word_2, word_3, analogy_word], 200000)    \n",
    "    words, projected_vectors = get_2d_projection(model, words)\n",
    "    plot_2d_projection(words[0:4], projected_vectors[0:4])\n",
    "    draw_analogie_vectors(projected_vectors)\n"
   ]
  },
  {
   "cell_type": "code",
   "execution_count": 22,
   "metadata": {},
   "outputs": [
    {
     "data": {
      "image/png": "[encoded data removed]",
      "text/plain": [
       "<Figure size 864x864 with 1 Axes>"
      ]
     },
     "metadata": {
      "needs_background": "light"
     },
     "output_type": "display_data"
    }
   ],
   "source": [
    "base_words = [\"apple\",\"banana\",\"raisin\", \"computer\", \"Logitech\",\"animal\", \"Poutine\", \"Clinton\", \"Canada\", \"India\" ,\"France\", \"curry\", \"Apple\",  \"Microsoft\", \"Google\", \"mouse\", \"keyboard\",\"music\", \"cat\",\"work\", \"cow\", \"dog\", \"milk\"]\n",
    "words_to_project = get_words_to_project(base_words, 0)\n",
    "\n",
    "words, vectors = get_2d_projection(model, words_to_project)\n",
    "plot_2d_projection(words, vectors)\n"
   ]
  },
  {
   "cell_type": "markdown",
   "metadata": {},
   "source": [
    "## Quelques éléments intéressants\n"
   ]
  },
  {
   "cell_type": "markdown",
   "metadata": {},
   "source": [
    "### Groupes\n",
    "\n",
    "* Nourriture: raisin, apple, banana, milk, curry, poutine\n",
    "* Animaux: cow, dog, cat, mouse, animal\n",
    "* Ordinateur: computer, keyboard, mouse, apple, logitech\n",
    "* Travail: work, computer, farm, music\n",
    "* Compagnies: Apple, Logitech, Google, Microsoft\n",
    "* Pays: Canada, India\n",
    "\n",
    "### Ambiguïtés\n",
    "\n",
    "* Keyboard vs computer et music\n",
    "* Mouse vs computer et animal\n"
   ]
  },
  {
   "cell_type": "markdown",
   "metadata": {},
   "source": [
    "## Certains mots sont ambigus\n"
   ]
  },
  {
   "cell_type": "code",
   "execution_count": 23,
   "metadata": {},
   "outputs": [
    {
     "data": {
      "image/png": "[encoded data removed]",
      "text/plain": [
       "<Figure size 864x864 with 1 Axes>"
      ]
     },
     "metadata": {
      "needs_background": "light"
     },
     "output_type": "display_data"
    }
   ],
   "source": [
    "def add_to_base_words(new_word):\n",
    "    return base_words + [new_word] if new_word not in base_words else base_words\n",
    "\n",
    "# Quelques exemples: chicken, beef, jam, bug\n",
    "\n",
    "new = \"chicken\"\n",
    "base_words = add_to_base_words(new)\n",
    "words_to_project = get_words_to_project(base_words, 0)\n",
    "words, vectors = get_2d_projection(model, words_to_project)\n",
    "plot_2d_projection(words, vectors)"
   ]
  }
 ],
 "metadata": {
  "kernelspec": {
   "display_name": "Python 3",
   "language": "python",
   "name": "python3"
  },
  "language_info": {
   "codemirror_mode": {
    "name": "ipython",
    "version": 3
   },
   "file_extension": ".py",
   "mimetype": "text/x-python",
   "name": "python",
   "nbconvert_exporter": "python",
   "pygments_lexer": "ipython3",
   "version": "3.8.6"
  }
 },
 "nbformat": 4,
 "nbformat_minor": 4
}
