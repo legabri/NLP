{
 "cells": [
  {
   "cell_type": "markdown",
   "metadata": {},
   "source": [
    "# Conversion de questions à la forme affirmative\n",
    "Voici un exemple où l'on tente de convertir des questions de la forme interrogative à la forme affirmative.\n",
    "\n",
    "Par exemple, on voudrait convertir la question :\n",
    "\n",
    "  En quelle année New Jersey a-t-il remporté sa dernière Coupe Stanley?\n",
    "\n",
    "sous la forme affirmative\n",
    "\n",
    "  New Jersey a remporté sa dernière Coupe Stanley en 2000.\n",
    "\n",
    "Comme on ne connaît pas les réponses, on utilise des informations par défaut pour compléter les phrases:\n",
    "\n",
    "* Une quantité = 1000\n",
    "* Une marque temporelle (par ex. une année) = 2000\n",
    "* Un lieu = Québec\n",
    "* Une personne = Luc Lamontagne\n",
    "* Autre information = X\n",
    "La particularité de cet exemple est qu'on applique une cascade d'expressions régulières afin de faire la conversion. Si une expression fonctionne, on l'applique et le traitement s'arrête. Sinon on essaie avec les autres expressions. Ainsi l'ordre dans lequel on applique les expressions régulières est important.\n",
    "\n",
    "Voici une liste d'expressions régulières pour cet exemple. L'ordre dans lequel on applique les regex est déterminée par la variable all_regex. Une application réelle nécessiterait un plus grand nombre d'expressions."
   ]
  },
  {
   "cell_type": "code",
   "execution_count": 2,
   "metadata": {},
   "outputs": [],
   "source": [
    "pattern_date_1 = \"Quand ([\\s\\w'\\.]+)-(il|elle|ils|elles) ([\\s\\w'\\.]+)\\?\"\n",
    "sub_date_1 = \"\\\\1 \\\\3 en 2000.\"\n",
    "pattern_date_2 = \"En quelle année ([\\s\\w]+)-t-il ([\\s\\w']+)\\?\"\n",
    "sub_date_2 = \"\\\\1 \\\\2 en 2000.\"\n",
    "\n",
    "regex_quantity_4 = \"Quelle est (le |la |l')(espérance|hauteur|quantité|distance|température|vitesse) ([\\s\\w'-']+)\\?\"  # sub_quantity_1\n",
    "sub_quantity_4 = \"\\\\1\\\\2 \\\\3 est 1000.\"\n",
    "regex_quantity_5 = \"(À|A) quelle ([\\s\\w'-']+)\\?\"\n",
    "sub_quantity_2 = \"1000 \\\\1.\"\n",
    "\n",
    "pattern_definition_1 = \"Qui (est|était) ([A-Z][\\s\\w'-]+)\\?\"\n",
    "sub_definition_1 = \"\\\\2 \\\\1 X.\"\n",
    "pattern_definition_2 = \"Qu'est-ce qu['e]\\s?([\\s\\w'-]+)\\?\"\n",
    "sub_definition_2 = \"\\\\1 est X.\"\n",
    "pattern_definition_3 = \"Pourquoi ([\\s\\w']+)-\\w+ ([\\s\\w'-]+)\\?\"\n",
    "sub_definition_3 = \"\\\\1 \\\\2 parce que X.\"\n",
    "pattern_definition_7 = \"(Qui|Que|Quel|Quelle) (est|sont|était) ([\\s\\w'-]+)\\?\"\n",
    "sub_definition_7 = \"\\\\3 \\\\2 X.\"\n",
    "\n",
    "pattern_person_1 = \"Qui (est|était) ([\\s\\w'-]+)\\?\"\n",
    "sub_person_1 = \"\\\\2 \\\\1 Luc Lamontagne.\"\n",
    "pattern_person_2 = \"Qui (a|a été|avait) ([\\s\\w'-]+)\\?\"\n",
    "sub_person_2 = \"Luc Lamontagne \\\\1 \\\\2.\"\n",
    "\n",
    "regex_location_2 = \"Dans (quel|quelle) (ville|pays) (est|sont) ([\\s\\w'-]+)\\?\"\n",
    "sub_location_2 = \"\\\\4 \\\\3 à Québec.\"\n",
    "regex_location_3 = \"Où (est|sont) ([\\s\\w'-]+)\\?\"\n",
    "sub_location_3 = \"\\\\2 \\\\1 à Québec.\"\n",
    "\n",
    "all_regex = [(\"date1\", pattern_date_1, sub_date_1),\n",
    "             (\"date2\", pattern_date_2, sub_date_2),\n",
    "             (\"quantity4\", regex_quantity_4, sub_quantity_4),\n",
    "             (\"quantity5\", regex_quantity_5, sub_quantity_2),\n",
    "\n",
    "             (\"location2\", regex_location_2, sub_location_2),\n",
    "\n",
    "             (\"definition1\", pattern_definition_1, sub_definition_1),\n",
    "             (\"definition2\", pattern_definition_2, sub_definition_2),\n",
    "             (\"definition3\", pattern_definition_3, sub_definition_3),\n",
    "             (\"definition7\", pattern_definition_7, sub_definition_7),\n",
    "\n",
    "             (\"person1\", pattern_person_1, sub_person_1),\n",
    "             (\"person1\", pattern_person_2, sub_person_2),\n",
    "\n",
    "             (\"location3\", regex_location_3, sub_location_3)]"
   ]
  },
  {
   "cell_type": "markdown",
   "metadata": {},
   "source": [
    "Seulement 3 petites fonctions pour cet exemple car presque tout le travail est fait par les expressions régulières.\n",
    "\n",
    "* convert_all: convertis une liste de questions\n",
    "* convert: convertis une seule question\n",
    "* print_results: ça dit ce que ça fait"
   ]
  },
  {
   "cell_type": "code",
   "execution_count": 3,
   "metadata": {},
   "outputs": [],
   "source": [
    "import re\n",
    "\n",
    "def convert_all(questions):\n",
    "    results = []\n",
    "    for question in questions:\n",
    "        sentence = convert(question)\n",
    "        results.append((question, sentence))\n",
    "    print_results(results)\n",
    "\n",
    "def convert(question):\n",
    "    for tag, regex, substitution in all_regex:\n",
    "        x = re.match(regex, question)\n",
    "        if x :\n",
    "            return re.sub(regex, substitution, question)\n",
    "    return \"Désolé! Match pas...\"\n",
    "\n",
    "def print_results(results):\n",
    "    for question, sentence in results:\n",
    "        print(\"Q: \" + question)\n",
    "        print(\"A: \" + sentence + \"\\n\")"
   ]
  },
  {
   "cell_type": "markdown",
   "metadata": {},
   "source": [
    "Quelques questions pour illustrer ce que fait l'exemple.\n",
    "\n"
   ]
  },
  {
   "cell_type": "code",
   "execution_count": 4,
   "metadata": {},
   "outputs": [],
   "source": [
    "questions = [\n",
    "     \"Quelle est la distance entre Denver et Aspen?\",\n",
    "     \"Quelle est la hauteur du bâtiment Sears?\",\n",
    "     \"Quelle est l'espérance de vie des criquets?\",\n",
    "     \"Quand Hawaii est-elle devenue un état?\",\n",
    "     \"Quand l'Idaho est-il devenu un état?\",\n",
    "     \"En quelle année le Titanic a-t-il coulé?\",\n",
    "     \"Dans quelle ville est la tour Eiffel?\",\n",
    "     \"Où est le Colisée de Rome?\",\n",
    "     \"Qu'est-ce que la biosphère?\",\n",
    "     \"Qu'est-ce qu'un atome?\",\n",
    "     \"Quelle est la fleur nationale de l'Australie?\",\n",
    "     \"Pourquoi la lune devient-elle orange?\",\n",
    "     \"Qui a été le premier homme à marcher sur la Lune?\",\n",
    "     \"Qui était Galilée?\",\n",
    "     \"Qui a développé l'ordinateur Macintosh?\"]"
   ]
  },
  {
   "cell_type": "markdown",
   "metadata": {},
   "source": [
    "Et les conversions qu'on obtient sur ces questions :\n",
    "\n"
   ]
  },
  {
   "cell_type": "code",
   "execution_count": 5,
   "metadata": {},
   "outputs": [
    {
     "name": "stdout",
     "output_type": "stream",
     "text": [
      "Q: Quelle est la distance entre Denver et Aspen?\n",
      "A: la distance entre Denver et Aspen est 1000.\n",
      "\n",
      "Q: Quelle est la hauteur du bâtiment Sears?\n",
      "A: la hauteur du bâtiment Sears est 1000.\n",
      "\n",
      "Q: Quelle est l'espérance de vie des criquets?\n",
      "A: l'espérance de vie des criquets est 1000.\n",
      "\n",
      "Q: Quand Hawaii est-elle devenue un état?\n",
      "A: Hawaii est devenue un état en 2000.\n",
      "\n",
      "Q: Quand l'Idaho est-il devenu un état?\n",
      "A: l'Idaho est devenu un état en 2000.\n",
      "\n",
      "Q: En quelle année le Titanic a-t-il coulé?\n",
      "A: le Titanic a coulé en 2000.\n",
      "\n",
      "Q: Dans quelle ville est la tour Eiffel?\n",
      "A: la tour Eiffel est à Québec.\n",
      "\n",
      "Q: Où est le Colisée de Rome?\n",
      "A: le Colisée de Rome est à Québec.\n",
      "\n",
      "Q: Qu'est-ce que la biosphère?\n",
      "A: la biosphère est X.\n",
      "\n",
      "Q: Qu'est-ce qu'un atome?\n",
      "A: un atome est X.\n",
      "\n",
      "Q: Quelle est la fleur nationale de l'Australie?\n",
      "A: la fleur nationale de l'Australie est X.\n",
      "\n",
      "Q: Pourquoi la lune devient-elle orange?\n",
      "A: la lune devient orange parce que X.\n",
      "\n",
      "Q: Qui a été le premier homme à marcher sur la Lune?\n",
      "A: Luc Lamontagne a été le premier homme à marcher sur la Lune.\n",
      "\n",
      "Q: Qui était Galilée?\n",
      "A: Galilée était X.\n",
      "\n",
      "Q: Qui a développé l'ordinateur Macintosh?\n",
      "A: Luc Lamontagne a développé l'ordinateur Macintosh.\n",
      "\n"
     ]
    }
   ],
   "source": [
    "convert_all(questions)\n"
   ]
  },
  {
   "cell_type": "markdown",
   "metadata": {},
   "source": [
    "On reproche souvent aux expressions régulières d'être fragiles (brittle). En voici un exemple ici où une question légèrement reformulée ne peut pas être prise en compte par notre liste de regex. Dans ce cas, il faudrait ajouter des expressions supplémentaires pour chaque nouvelle question qui ne peut être convertie."
   ]
  },
  {
   "cell_type": "code",
   "execution_count": 6,
   "metadata": {},
   "outputs": [
    {
     "data": {
      "text/plain": [
       "'Jonathan est né en 2000.'"
      ]
     },
     "execution_count": 6,
     "metadata": {},
     "output_type": "execute_result"
    }
   ],
   "source": [
    "convert(\"Quand Jonathan est-il né?\")\n"
   ]
  },
  {
   "cell_type": "code",
   "execution_count": 7,
   "metadata": {},
   "outputs": [
    {
     "data": {
      "text/plain": [
       "'Désolé! Match pas...'"
      ]
     },
     "execution_count": 7,
     "metadata": {},
     "output_type": "execute_result"
    }
   ],
   "source": [
    "convert(\"Quand est né Jonathan?\")\n"
   ]
  },
  {
   "cell_type": "markdown",
   "metadata": {},
   "source": [
    "Pour terminer, parfois le hasard fait bien les choses...\n",
    "\n"
   ]
  },
  {
   "cell_type": "code",
   "execution_count": 8,
   "metadata": {},
   "outputs": [
    {
     "data": {
      "text/plain": [
       "'New Jersey a remporté sa dernière coupe Stanley en 2000.'"
      ]
     },
     "execution_count": 8,
     "metadata": {},
     "output_type": "execute_result"
    }
   ],
   "source": [
    "convert(\"En quelle année New Jersey a-t-il remporté sa dernière coupe Stanley?\")\n"
   ]
  },
  {
   "cell_type": "code",
   "execution_count": 9,
   "metadata": {},
   "outputs": [
    {
     "data": {
      "text/plain": [
       "'les caméras sont apparues sur les téléphones en 2000.'"
      ]
     },
     "execution_count": 9,
     "metadata": {},
     "output_type": "execute_result"
    }
   ],
   "source": [
    "convert(\"Quand les caméras sont-elle apparues sur les téléphones?\")\n"
   ]
  },
  {
   "cell_type": "code",
   "execution_count": 10,
   "metadata": {},
   "outputs": [
    {
     "data": {
      "text/plain": [
       "'le Bluetooth a été créé en 2000.'"
      ]
     },
     "execution_count": 10,
     "metadata": {},
     "output_type": "execute_result"
    }
   ],
   "source": [
    "convert(\"En quelle année le Bluetooth a-t-il été créé?\")\n"
   ]
  },
  {
   "cell_type": "code",
   "execution_count": 11,
   "metadata": {},
   "outputs": [
    {
     "data": {
      "text/plain": [
       "'le prof de ce cours est X.'"
      ]
     },
     "execution_count": 11,
     "metadata": {},
     "output_type": "execute_result"
    }
   ],
   "source": [
    "convert(\"Qui est le prof de ce cours?\")\n"
   ]
  }
 ],
 "metadata": {
  "kernelspec": {
   "display_name": "Python 3",
   "language": "python",
   "name": "python3"
  },
  "language_info": {
   "codemirror_mode": {
    "name": "ipython",
    "version": 3
   },
   "file_extension": ".py",
   "mimetype": "text/x-python",
   "name": "python",
   "nbconvert_exporter": "python",
   "pygments_lexer": "ipython3",
   "version": "3.8.6"
  }
 },
 "nbformat": 4,
 "nbformat_minor": 4
}
