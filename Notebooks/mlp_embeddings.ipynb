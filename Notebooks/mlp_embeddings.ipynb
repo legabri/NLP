{
 "cells": [
  {
   "cell_type": "markdown",
   "metadata": {},
   "source": [
    "## Réseaux de neurones #3 : Classification de documents avec un réseau multicouches et des embeddings\n",
    "\n",
    "On reprend dans cet exemple la classification de documents avec un réseau MLP à 2 couches.\n",
    "\n",
    "Cependant, la principale différence est que la représentation d'un document est construite à partir des embeddings des mots de ce document. On utilise ici les embeddings de Spacy (note: les analyseurs de Spacy sont des réseaux de neurones).\n",
    "\n",
    "### 1. Création du jeu de données\n",
    "\n",
    "On utilise le même jeu de données que pour les exemples précédents."
   ]
  },
  {
   "cell_type": "code",
   "execution_count": 1,
   "metadata": {},
   "outputs": [],
   "source": [
    "from sklearn.datasets import fetch_20newsgroups\n",
    "from sklearn.feature_extraction.text import CountVectorizer\n",
    "\n",
    "# On utilise le corpus 20Newsgroups et on limite les exemples d'entraînement à 4 classes\n",
    "wanted_categories = ['rec.sport.hockey', 'sci.space', 'rec.autos', 'sci.med']\n",
    "\n",
    "training_corpus = fetch_20newsgroups(subset='train', categories=wanted_categories, shuffle=True)\n",
    "validation_corpus = fetch_20newsgroups(subset='test', categories=wanted_categories, shuffle=True)\n",
    "\n",
    "target_categories = training_corpus.target_names"
   ]
  },
  {
   "cell_type": "markdown",
   "metadata": {},
   "source": [
    "On crée également une instance de Spacy pour avoir accès à ses embeddings de mots.\n",
    "\n"
   ]
  },
  {
   "cell_type": "code",
   "execution_count": 2,
   "metadata": {},
   "outputs": [],
   "source": [
    "import spacy \n",
    "nlp = spacy.load('en_core_web_lg')\n"
   ]
  },
  {
   "cell_type": "markdown",
   "metadata": {},
   "source": [
    "## 2. Création d'une architecture neuronale multicouches\n",
    "\n",
    "L'architecture est la même que pour l'exemple précédent, soit 2 couches linéaires avec une activation RELU sur la première couche.\n",
    "\n",
    "On détermine également la taille des embeddings de Spacy (embedding_size). Cette valeur sera utilisée comme taille des vecteurs qui sont donnés en entrée au réseau (input_size)."
   ]
  },
  {
   "cell_type": "code",
   "execution_count": 3,
   "metadata": {},
   "outputs": [],
   "source": [
    "from torch import nn\n",
    "\n",
    "embedding_size = nlp.meta['vectors']['width'] # La dimension des vecteurs d'embeddings de Spacy\n",
    "nb_classes = len(target_categories)\n",
    "\n",
    "class MultiLayerPerceptron(nn.Module):\n",
    "    \n",
    "    def __init__(self, input_size, hidden_layer_size, output_size) :\n",
    "        super().__init__()\n",
    "        self.intput_layer = nn.Linear(input_size, hidden_layer_size)\n",
    "        self.output_layer = nn.Linear(hidden_layer_size, output_size)\n",
    "        \n",
    "    def forward(self, x):\n",
    "        x = self.intput_layer(x)\n",
    "        x = nn.functional.relu_(x)\n",
    "        x = self.output_layer(x)\n",
    "        return x\n"
   ]
  },
  {
   "cell_type": "markdown",
   "metadata": {},
   "source": [
    "## 3. Création d'un dataloader pour itérer dans les données en \"minibatch\"¶\n"
   ]
  },
  {
   "cell_type": "code",
   "execution_count": 4,
   "metadata": {},
   "outputs": [],
   "source": [
    "from torch.utils.data import Dataset, DataLoader\n",
    "from torch import FloatTensor, LongTensor\n",
    "from typing import List\n",
    "import numpy as np\n",
    "\n",
    "class SpacyDataset(Dataset):\n",
    "    \n",
    "    def __init__(self, dataset: List[str] , target: np.array, sentence_aggregation_function):\n",
    "        self.dataset = dataset\n",
    "        self.aggregated_dataset = [None for _ in range(len(dataset))]\n",
    "        self.sentence_aggregation_function = sentence_aggregation_function\n",
    "        self.target = target\n",
    "    \n",
    "    def __len__(self):\n",
    "        return len(self.dataset)\n",
    "\n",
    "    def __getitem__(self, index):\n",
    "        if self.aggregated_dataset[index] is None:\n",
    "            self.aggregated_dataset[index] = self.sentence_aggregation_function(self.dataset[index])  \n",
    "        return FloatTensor(self.aggregated_dataset[index]), LongTensor([self.target[index]]).squeeze(0)"
   ]
  },
  {
   "cell_type": "markdown",
   "metadata": {},
   "source": [
    "Dans cet exemple, le dataloader utilise une fonction qui permet de **fusionner les embeddings des mots d'un document en un seul vecteur qui représente le document**. Trois options sont disponibles:\n",
    "\n",
    "* prendre la moyenne des embeddings (average_embedding)\n",
    "* prendre la valeur maximum sur chacune des dimensions des embeddings (maxpool_embedding)\n",
    "* utiliser une fonction de Spacy qui permet de représenter un texte par un seul embedding (spacy_cnn).\n",
    "\n",
    "Pour fusionner les embeddings de mots ensemble (sauf spacy_cnn), la procédure est la suivante:\n",
    "\n",
    "* tokéniser le texte en mots individuels\n",
    "* aller chercher les embeddings de Spacy (token.vector) et les stocker dans une matrice (sentence_embedding_matrix)\n",
    "* appliquer la fonction d'agrégation sur chacune des dimensions de la matrice pour obtenir un vecteur."
   ]
  },
  {
   "cell_type": "code",
   "execution_count": 5,
   "metadata": {},
   "outputs": [],
   "source": [
    "def average_embedding(sentence, nlp_model=nlp):\n",
    "    tokenised_sentence = nlp_model(sentence)\n",
    "    nb_column = len(tokenised_sentence)\n",
    "    nb_rows =  nlp_model.meta['vectors']['width'] \n",
    "    sentence_embedding_matrix = np.zeros((nb_rows, nb_column))                                  \n",
    "    for index, token in enumerate(tokenised_sentence):\n",
    "        sentence_embedding_matrix[:, index] = token.vector\n",
    "    return np.average(sentence_embedding_matrix, axis=1)\n",
    "\n",
    "def maxpool_embedding(sentence, nlp_model=nlp):\n",
    "    tokenised_sentence = nlp_model(sentence)\n",
    "    nb_column = len(tokenised_sentence)\n",
    "    nb_rows =  nlp_model.meta['vectors']['width'] \n",
    "    sentence_embedding_matrix = np.zeros((nb_rows, nb_column))                                    \n",
    "    for index, token in enumerate(tokenised_sentence):\n",
    "        sentence_embedding_matrix[:, index] = token.vector\n",
    "    return np.max(sentence_embedding_matrix, axis=1)\n",
    "\n",
    "def spacy_cnn(sentence, nlp_model=nlp):\n",
    "    tokenised_sentence = nlp_model(sentence)\n",
    "    return tokenised_sentence.vector"
   ]
  },
  {
   "cell_type": "markdown",
   "metadata": {},
   "source": [
    "Et on crée les dataloaders à l'aide de la fonction d'une fonction de fusion d'embeddings.\n"
   ]
  },
  {
   "cell_type": "code",
   "execution_count": 6,
   "metadata": {},
   "outputs": [],
   "source": [
    "aggregation_function = average_embedding\n",
    "# aggregation_function = maxpool_embedding\n",
    "# aggregation_function = spacy_cnn\n",
    "\n",
    "train_dataset = SpacyDataset(training_corpus.data, training_corpus.target, aggregation_function)\n",
    "valid_dataset = SpacyDataset(validation_corpus.data, validation_corpus.target, aggregation_function)\n",
    "\n",
    "train_dataloader = DataLoader(train_dataset, batch_size=16, shuffle=True)\n",
    "valid_dataloader = DataLoader(valid_dataset, batch_size=16, shuffle=True)"
   ]
  },
  {
   "cell_type": "markdown",
   "metadata": {},
   "source": [
    "## 4. Création d'une boucle d'entraînement\n",
    "On peut maintenant entraîner le modèle comme on le faisait auparavant.\n",
    "\n",
    "Note: Prévoir autre chose à faire pendant l'entraînement, car ça peut prendre un bon bout de temps :-)"
   ]
  },
  {
   "cell_type": "code",
   "execution_count": 7,
   "metadata": {},
   "outputs": [],
   "source": [
    "from poutyne.framework import Experiment\n",
    "from poutyne import set_seeds\n",
    "from torch.optim import SGD\n",
    "import numpy as np\n",
    "\n",
    "set_seeds(42)\n",
    "hidden_size = 100\n",
    "\n",
    "model = MultiLayerPerceptron(embedding_size, hidden_size, nb_classes)\n",
    "experiment = Experiment('model/{}_mlp'.format(aggregation_function.__name__), \n",
    "                        model, \n",
    "                        optimizer = \"SGD\", \n",
    "                        task=\"classification\")"
   ]
  },
  {
   "cell_type": "code",
   "execution_count": 8,
   "metadata": {},
   "outputs": [
    {
     "name": "stdout",
     "output_type": "stream",
     "text": [
      "\u001b[35mEpoch: \u001b[36m1/100 \u001b[35mStep: \u001b[36m149/149 \u001b[35m100.00% |\u001b[35m█████████████████████████\u001b[35m|\u001b[32m442.72s \u001b[35mloss:\u001b[94m 1.382166\u001b[35m acc:\u001b[94m 28.013440\u001b[35m fscore_micro:\u001b[94m 0.280134\u001b[35m val_loss:\u001b[94m 1.379430\u001b[35m val_acc:\u001b[94m 28.138801\u001b[35m val_fscore_micro:\u001b[94m 0.281388\u001b[0m\n",
      "Epoch 1: val_acc improved from -inf to 28.13880, saving file to model/average_embedding_mlp\\checkpoint_epoch_1.ckpt\n",
      "\u001b[35mEpoch: \u001b[36m2/100 \u001b[35mStep: \u001b[36m149/149 \u001b[35m100.00% |\u001b[35m█████████████████████████\u001b[35m|\u001b[32m1.39s \u001b[35mloss:\u001b[94m 1.376620\u001b[35m acc:\u001b[94m 36.455271\u001b[35m fscore_micro:\u001b[94m 0.364553\u001b[35m val_loss:\u001b[94m 1.374231\u001b[35m val_acc:\u001b[94m 42.649842\u001b[35m val_fscore_micro:\u001b[94m 0.426498\u001b[0m\n",
      "Epoch 2: val_acc improved from 28.13880 to 42.64984, saving file to model/average_embedding_mlp\\checkpoint_epoch_2.ckpt\n",
      "\u001b[35mEpoch: \u001b[36m3/100 \u001b[35mStep: \u001b[36m149/149 \u001b[35m100.00% |\u001b[35m█████████████████████████\u001b[35m|\u001b[32m1.44s \u001b[35mloss:\u001b[94m 1.371278\u001b[35m acc:\u001b[94m 51.910962\u001b[35m fscore_micro:\u001b[94m 0.519110\u001b[35m val_loss:\u001b[94m 1.369187\u001b[35m val_acc:\u001b[94m 47.003155\u001b[35m val_fscore_micro:\u001b[94m 0.470032\u001b[0m\n",
      "Epoch 3: val_acc improved from 42.64984 to 47.00315, saving file to model/average_embedding_mlp\\checkpoint_epoch_3.ckpt\n",
      "\u001b[35mEpoch: \u001b[36m4/100 \u001b[35mStep: \u001b[36m149/149 \u001b[35m100.00% |\u001b[35m█████████████████████████\u001b[35m|\u001b[32m1.41s \u001b[35mloss:\u001b[94m 1.365761\u001b[35m acc:\u001b[94m 52.120958\u001b[35m fscore_micro:\u001b[94m 0.521210\u001b[35m val_loss:\u001b[94m 1.363430\u001b[35m val_acc:\u001b[94m 53.501577\u001b[35m val_fscore_micro:\u001b[94m 0.535016\u001b[0m\n",
      "Epoch 4: val_acc improved from 47.00315 to 53.50158, saving file to model/average_embedding_mlp\\checkpoint_epoch_4.ckpt\n",
      "\u001b[35mEpoch: \u001b[36m5/100 \u001b[35mStep: \u001b[36m149/149 \u001b[35m100.00% |\u001b[35m█████████████████████████\u001b[35m|\u001b[32m1.39s \u001b[35mloss:\u001b[94m 1.359357\u001b[35m acc:\u001b[94m 58.210836\u001b[35m fscore_micro:\u001b[94m 0.582108\u001b[35m val_loss:\u001b[94m 1.356802\u001b[35m val_acc:\u001b[94m 53.943218\u001b[35m val_fscore_micro:\u001b[94m 0.539432\u001b[0m\n",
      "Epoch 5: val_acc improved from 53.50158 to 53.94322, saving file to model/average_embedding_mlp\\checkpoint_epoch_5.ckpt\n",
      "\u001b[35mEpoch: \u001b[36m6/100 \u001b[35mStep: \u001b[36m149/149 \u001b[35m100.00% |\u001b[35m█████████████████████████\u001b[35m|\u001b[32m1.28s \u001b[35mloss:\u001b[94m 1.351785\u001b[35m acc:\u001b[94m 55.480890\u001b[35m fscore_micro:\u001b[94m 0.554809\u001b[35m val_loss:\u001b[94m 1.348890\u001b[35m val_acc:\u001b[94m 58.990536\u001b[35m val_fscore_micro:\u001b[94m 0.589905\u001b[0m\n",
      "Epoch 6: val_acc improved from 53.94322 to 58.99054, saving file to model/average_embedding_mlp\\checkpoint_epoch_6.ckpt\n",
      "\u001b[35mEpoch: \u001b[36m7/100 \u001b[35mStep: \u001b[36m149/149 \u001b[35m100.00% |\u001b[35m█████████████████████████\u001b[35m|\u001b[32m1.36s \u001b[35mloss:\u001b[94m 1.343063\u001b[35m acc:\u001b[94m 54.010920\u001b[35m fscore_micro:\u001b[94m 0.540109\u001b[35m val_loss:\u001b[94m 1.339875\u001b[35m val_acc:\u001b[94m 67.381703\u001b[35m val_fscore_micro:\u001b[94m 0.673817\u001b[0m\n",
      "Epoch 7: val_acc improved from 58.99054 to 67.38170, saving file to model/average_embedding_mlp\\checkpoint_epoch_7.ckpt\n",
      "\u001b[35mEpoch: \u001b[36m8/100 \u001b[35mStep: \u001b[36m149/149 \u001b[35m100.00% |\u001b[35m█████████████████████████\u001b[35m|\u001b[32m1.40s \u001b[35mloss:\u001b[94m 1.332928\u001b[35m acc:\u001b[94m 71.566569\u001b[35m fscore_micro:\u001b[94m 0.715666\u001b[35m val_loss:\u001b[94m 1.329025\u001b[35m val_acc:\u001b[94m 58.864353\u001b[35m val_fscore_micro:\u001b[94m 0.588644\u001b[0m\n",
      "\u001b[35mEpoch: \u001b[36m9/100 \u001b[35mStep: \u001b[36m149/149 \u001b[35m100.00% |\u001b[35m█████████████████████████\u001b[35m|\u001b[32m1.31s \u001b[35mloss:\u001b[94m 1.320719\u001b[35m acc:\u001b[94m 60.856783\u001b[35m fscore_micro:\u001b[94m 0.608568\u001b[35m val_loss:\u001b[94m 1.316338\u001b[35m val_acc:\u001b[94m 66.624606\u001b[35m val_fscore_micro:\u001b[94m 0.666246\u001b[0m\n",
      "\u001b[35mEpoch: \u001b[36m10/100 \u001b[35mStep: \u001b[36m149/149 \u001b[35m100.00% |\u001b[35m█████████████████████████\u001b[35m|\u001b[32m1.29s \u001b[35mloss:\u001b[94m 1.306822\u001b[35m acc:\u001b[94m 67.660647\u001b[35m fscore_micro:\u001b[94m 0.676606\u001b[35m val_loss:\u001b[94m 1.301677\u001b[35m val_acc:\u001b[94m 66.435331\u001b[35m val_fscore_micro:\u001b[94m 0.664353\u001b[0m\n",
      "\u001b[35mEpoch: \u001b[36m11/100 \u001b[35mStep: \u001b[36m149/149 \u001b[35m100.00% |\u001b[35m█████████████████████████\u001b[35m|\u001b[32m1.32s \u001b[35mloss:\u001b[94m 1.290283\u001b[35m acc:\u001b[94m 65.980680\u001b[35m fscore_micro:\u001b[94m 0.659807\u001b[35m val_loss:\u001b[94m 1.285169\u001b[35m val_acc:\u001b[94m 65.552050\u001b[35m val_fscore_micro:\u001b[94m 0.655520\u001b[0m\n",
      "\u001b[35mEpoch: \u001b[36m12/100 \u001b[35mStep: \u001b[36m149/149 \u001b[35m100.00% |\u001b[35m█████████████████████████\u001b[35m|\u001b[32m1.28s \u001b[35mloss:\u001b[94m 1.271552\u001b[35m acc:\u001b[94m 70.180596\u001b[35m fscore_micro:\u001b[94m 0.701806\u001b[35m val_loss:\u001b[94m 1.265466\u001b[35m val_acc:\u001b[94m 65.299685\u001b[35m val_fscore_micro:\u001b[94m 0.652997\u001b[0m\n",
      "\u001b[35mEpoch: \u001b[36m13/100 \u001b[35mStep: \u001b[36m149/149 \u001b[35m100.00% |\u001b[35m█████████████████████████\u001b[35m|\u001b[32m1.29s \u001b[35mloss:\u001b[94m 1.249806\u001b[35m acc:\u001b[94m 67.240655\u001b[35m fscore_micro:\u001b[94m 0.672407\u001b[35m val_loss:\u001b[94m 1.245535\u001b[35m val_acc:\u001b[94m 64.290221\u001b[35m val_fscore_micro:\u001b[94m 0.642902\u001b[0m\n",
      "\u001b[35mEpoch: \u001b[36m14/100 \u001b[35mStep: \u001b[36m149/149 \u001b[35m100.00% |\u001b[35m█████████████████████████\u001b[35m|\u001b[32m1.35s \u001b[35mloss:\u001b[94m 1.226007\u001b[35m acc:\u001b[94m 69.676606\u001b[35m fscore_micro:\u001b[94m 0.696766\u001b[35m val_loss:\u001b[94m 1.218964\u001b[35m val_acc:\u001b[94m 68.328076\u001b[35m val_fscore_micro:\u001b[94m 0.683281\u001b[0m\n",
      "Epoch 14: val_acc improved from 67.38170 to 68.32808, saving file to model/average_embedding_mlp\\checkpoint_epoch_14.ckpt\n",
      "\u001b[35mEpoch: \u001b[36m15/100 \u001b[35mStep: \u001b[36m149/149 \u001b[35m100.00% |\u001b[35m█████████████████████████\u001b[35m|\u001b[32m1.32s \u001b[35mloss:\u001b[94m 1.199932\u001b[35m acc:\u001b[94m 69.844603\u001b[35m fscore_micro:\u001b[94m 0.698446\u001b[35m val_loss:\u001b[94m 1.191215\u001b[35m val_acc:\u001b[94m 70.662461\u001b[35m val_fscore_micro:\u001b[94m 0.706625\u001b[0m\n",
      "Epoch 15: val_acc improved from 68.32808 to 70.66246, saving file to model/average_embedding_mlp\\checkpoint_epoch_15.ckpt\n",
      "\u001b[35mEpoch: \u001b[36m16/100 \u001b[35mStep: \u001b[36m149/149 \u001b[35m100.00% |\u001b[35m█████████████████████████\u001b[35m|\u001b[32m1.36s \u001b[35mloss:\u001b[94m 1.171307\u001b[35m acc:\u001b[94m 71.650567\u001b[35m fscore_micro:\u001b[94m 0.716506\u001b[35m val_loss:\u001b[94m 1.161823\u001b[35m val_acc:\u001b[94m 74.889590\u001b[35m val_fscore_micro:\u001b[94m 0.748896\u001b[0m\n",
      "Epoch 16: val_acc improved from 70.66246 to 74.88959, saving file to model/average_embedding_mlp\\checkpoint_epoch_16.ckpt\n",
      "\u001b[35mEpoch: \u001b[36m17/100 \u001b[35mStep: \u001b[36m149/149 \u001b[35m100.00% |\u001b[35m█████████████████████████\u001b[35m|\u001b[32m1.40s \u001b[35mloss:\u001b[94m 1.139846\u001b[35m acc:\u001b[94m 75.304494\u001b[35m fscore_micro:\u001b[94m 0.753045\u001b[35m val_loss:\u001b[94m 1.130800\u001b[35m val_acc:\u001b[94m 73.059937\u001b[35m val_fscore_micro:\u001b[94m 0.730599\u001b[0m\n",
      "\u001b[35mEpoch: \u001b[36m18/100 \u001b[35mStep: \u001b[36m149/149 \u001b[35m100.00% |\u001b[35m█████████████████████████\u001b[35m|\u001b[32m1.39s \u001b[35mloss:\u001b[94m 1.107076\u001b[35m acc:\u001b[94m 76.522470\u001b[35m fscore_micro:\u001b[94m 0.765225\u001b[35m val_loss:\u001b[94m 1.097925\u001b[35m val_acc:\u001b[94m 71.608833\u001b[35m val_fscore_micro:\u001b[94m 0.716088\u001b[0m\n",
      "\u001b[35mEpoch: \u001b[36m19/100 \u001b[35mStep: \u001b[36m149/149 \u001b[35m100.00% |\u001b[35m█████████████████████████\u001b[35m|\u001b[32m1.38s \u001b[35mloss:\u001b[94m 1.072264\u001b[35m acc:\u001b[94m 76.648467\u001b[35m fscore_micro:\u001b[94m 0.766485\u001b[35m val_loss:\u001b[94m 1.060848\u001b[35m val_acc:\u001b[94m 76.971609\u001b[35m val_fscore_micro:\u001b[94m 0.769716\u001b[0m\n",
      "Epoch 19: val_acc improved from 74.88959 to 76.97161, saving file to model/average_embedding_mlp\\checkpoint_epoch_19.ckpt\n",
      "\u001b[35mEpoch: \u001b[36m20/100 \u001b[35mStep: \u001b[36m149/149 \u001b[35m100.00% |\u001b[35m█████████████████████████\u001b[35m|\u001b[32m1.52s \u001b[35mloss:\u001b[94m 1.036362\u001b[35m acc:\u001b[94m 79.840403\u001b[35m fscore_micro:\u001b[94m 0.798404\u001b[35m val_loss:\u001b[94m 1.026228\u001b[35m val_acc:\u001b[94m 75.899054\u001b[35m val_fscore_micro:\u001b[94m 0.758991\u001b[0m\n",
      "\u001b[35mEpoch: \u001b[36m21/100 \u001b[35mStep: \u001b[36m149/149 \u001b[35m100.00% |\u001b[35m█████████████████████████\u001b[35m|\u001b[32m1.41s \u001b[35mloss:\u001b[94m 0.999795\u001b[35m acc:\u001b[94m 79.378412\u001b[35m fscore_micro:\u001b[94m 0.793784\u001b[35m val_loss:\u001b[94m 0.991026\u001b[35m val_acc:\u001b[94m 79.873817\u001b[35m val_fscore_micro:\u001b[94m 0.798738\u001b[0m\n",
      "Epoch 21: val_acc improved from 76.97161 to 79.87382, saving file to model/average_embedding_mlp\\checkpoint_epoch_21.ckpt\n",
      "\u001b[35mEpoch: \u001b[36m22/100 \u001b[35mStep: \u001b[36m149/149 \u001b[35m100.00% |\u001b[35m█████████████████████████\u001b[35m|\u001b[32m1.39s \u001b[35mloss:\u001b[94m 0.963672\u001b[35m acc:\u001b[94m 82.360353\u001b[35m fscore_micro:\u001b[94m 0.823604\u001b[35m val_loss:\u001b[94m 0.954627\u001b[35m val_acc:\u001b[94m 80.126183\u001b[35m val_fscore_micro:\u001b[94m 0.801262\u001b[0m\n",
      "Epoch 22: val_acc improved from 79.87382 to 80.12618, saving file to model/average_embedding_mlp\\checkpoint_epoch_22.ckpt\n",
      "\u001b[35mEpoch: \u001b[36m23/100 \u001b[35mStep: \u001b[36m149/149 \u001b[35m100.00% |\u001b[35m█████████████████████████\u001b[35m|\u001b[32m1.44s \u001b[35mloss:\u001b[94m 0.926231\u001b[35m acc:\u001b[94m 82.402352\u001b[35m fscore_micro:\u001b[94m 0.824024\u001b[35m val_loss:\u001b[94m 0.914330\u001b[35m val_acc:\u001b[94m 82.460568\u001b[35m val_fscore_micro:\u001b[94m 0.824606\u001b[0m\n"
     ]
    },
    {
     "name": "stdout",
     "output_type": "stream",
     "text": [
      "Epoch 23: val_acc improved from 80.12618 to 82.46057, saving file to model/average_embedding_mlp\\checkpoint_epoch_23.ckpt\n",
      "\u001b[35mEpoch: \u001b[36m24/100 \u001b[35mStep: \u001b[36m149/149 \u001b[35m100.00% |\u001b[35m█████████████████████████\u001b[35m|\u001b[32m1.46s \u001b[35mloss:\u001b[94m 0.890585\u001b[35m acc:\u001b[94m 84.712306\u001b[35m fscore_micro:\u001b[94m 0.847123\u001b[35m val_loss:\u001b[94m 0.878513\u001b[35m val_acc:\u001b[94m 82.586751\u001b[35m val_fscore_micro:\u001b[94m 0.825868\u001b[0m\n",
      "Epoch 24: val_acc improved from 82.46057 to 82.58675, saving file to model/average_embedding_mlp\\checkpoint_epoch_24.ckpt\n",
      "\u001b[35mEpoch: \u001b[36m25/100 \u001b[35mStep: \u001b[36m149/149 \u001b[35m100.00% |\u001b[35m█████████████████████████\u001b[35m|\u001b[32m1.43s \u001b[35mloss:\u001b[94m 0.855073\u001b[35m acc:\u001b[94m 85.888282\u001b[35m fscore_micro:\u001b[94m 0.858883\u001b[35m val_loss:\u001b[94m 0.844316\u001b[35m val_acc:\u001b[94m 82.397476\u001b[35m val_fscore_micro:\u001b[94m 0.823975\u001b[0m\n",
      "\u001b[35mEpoch: \u001b[36m26/100 \u001b[35mStep: \u001b[36m149/149 \u001b[35m100.00% |\u001b[35m█████████████████████████\u001b[35m|\u001b[32m1.47s \u001b[35mloss:\u001b[94m 0.820291\u001b[35m acc:\u001b[94m 86.770265\u001b[35m fscore_micro:\u001b[94m 0.867703\u001b[35m val_loss:\u001b[94m 0.811806\u001b[35m val_acc:\u001b[94m 83.848580\u001b[35m val_fscore_micro:\u001b[94m 0.838486\u001b[0m\n",
      "Epoch 26: val_acc improved from 82.58675 to 83.84858, saving file to model/average_embedding_mlp\\checkpoint_epoch_26.ckpt\n",
      "\u001b[35mEpoch: \u001b[36m27/100 \u001b[35mStep: \u001b[36m149/149 \u001b[35m100.00% |\u001b[35m█████████████████████████\u001b[35m|\u001b[32m1.43s \u001b[35mloss:\u001b[94m 0.786942\u001b[35m acc:\u001b[94m 87.106258\u001b[35m fscore_micro:\u001b[94m 0.871063\u001b[35m val_loss:\u001b[94m 0.777307\u001b[35m val_acc:\u001b[94m 85.236593\u001b[35m val_fscore_micro:\u001b[94m 0.852366\u001b[0m\n",
      "Epoch 27: val_acc improved from 83.84858 to 85.23659, saving file to model/average_embedding_mlp\\checkpoint_epoch_27.ckpt\n",
      "\u001b[35mEpoch: \u001b[36m28/100 \u001b[35mStep: \u001b[36m149/149 \u001b[35m100.00% |\u001b[35m█████████████████████████\u001b[35m|\u001b[32m1.43s \u001b[35mloss:\u001b[94m 0.754190\u001b[35m acc:\u001b[94m 88.702226\u001b[35m fscore_micro:\u001b[94m 0.887022\u001b[35m val_loss:\u001b[94m 0.744933\u001b[35m val_acc:\u001b[94m 86.119874\u001b[35m val_fscore_micro:\u001b[94m 0.861199\u001b[0m\n",
      "Epoch 28: val_acc improved from 85.23659 to 86.11987, saving file to model/average_embedding_mlp\\checkpoint_epoch_28.ckpt\n",
      "\u001b[35mEpoch: \u001b[36m29/100 \u001b[35mStep: \u001b[36m149/149 \u001b[35m100.00% |\u001b[35m█████████████████████████\u001b[35m|\u001b[32m1.45s \u001b[35mloss:\u001b[94m 0.723009\u001b[35m acc:\u001b[94m 89.248215\u001b[35m fscore_micro:\u001b[94m 0.892482\u001b[35m val_loss:\u001b[94m 0.716557\u001b[35m val_acc:\u001b[94m 86.624606\u001b[35m val_fscore_micro:\u001b[94m 0.866246\u001b[0m\n",
      "Epoch 29: val_acc improved from 86.11987 to 86.62461, saving file to model/average_embedding_mlp\\checkpoint_epoch_29.ckpt\n",
      "\u001b[35mEpoch: \u001b[36m30/100 \u001b[35mStep: \u001b[36m149/149 \u001b[35m100.00% |\u001b[35m█████████████████████████\u001b[35m|\u001b[32m1.59s \u001b[35mloss:\u001b[94m 0.693054\u001b[35m acc:\u001b[94m 89.206216\u001b[35m fscore_micro:\u001b[94m 0.892062\u001b[35m val_loss:\u001b[94m 0.689681\u001b[35m val_acc:\u001b[94m 86.876972\u001b[35m val_fscore_micro:\u001b[94m 0.868770\u001b[0m\n",
      "Epoch 30: val_acc improved from 86.62461 to 86.87697, saving file to model/average_embedding_mlp\\checkpoint_epoch_30.ckpt\n",
      "\u001b[35mEpoch: \u001b[36m31/100 \u001b[35mStep: \u001b[36m149/149 \u001b[35m100.00% |\u001b[35m█████████████████████████\u001b[35m|\u001b[32m1.44s \u001b[35mloss:\u001b[94m 0.665752\u001b[35m acc:\u001b[94m 90.046199\u001b[35m fscore_micro:\u001b[94m 0.900462\u001b[35m val_loss:\u001b[94m 0.659203\u001b[35m val_acc:\u001b[94m 87.697161\u001b[35m val_fscore_micro:\u001b[94m 0.876972\u001b[0m\n",
      "Epoch 31: val_acc improved from 86.87697 to 87.69716, saving file to model/average_embedding_mlp\\checkpoint_epoch_31.ckpt\n",
      "\u001b[35mEpoch: \u001b[36m32/100 \u001b[35mStep: \u001b[36m149/149 \u001b[35m100.00% |\u001b[35m█████████████████████████\u001b[35m|\u001b[32m1.43s \u001b[35mloss:\u001b[94m 0.638194\u001b[35m acc:\u001b[94m 89.920202\u001b[35m fscore_micro:\u001b[94m 0.899202\u001b[35m val_loss:\u001b[94m 0.634246\u001b[35m val_acc:\u001b[94m 88.328076\u001b[35m val_fscore_micro:\u001b[94m 0.883281\u001b[0m\n",
      "Epoch 32: val_acc improved from 87.69716 to 88.32808, saving file to model/average_embedding_mlp\\checkpoint_epoch_32.ckpt\n",
      "\u001b[35mEpoch: \u001b[36m33/100 \u001b[35mStep: \u001b[36m149/149 \u001b[35m100.00% |\u001b[35m█████████████████████████\u001b[35m|\u001b[32m1.53s \u001b[35mloss:\u001b[94m 0.612701\u001b[35m acc:\u001b[94m 90.844183\u001b[35m fscore_micro:\u001b[94m 0.908442\u001b[35m val_loss:\u001b[94m 0.607582\u001b[35m val_acc:\u001b[94m 88.832808\u001b[35m val_fscore_micro:\u001b[94m 0.888328\u001b[0m\n",
      "Epoch 33: val_acc improved from 88.32808 to 88.83281, saving file to model/average_embedding_mlp\\checkpoint_epoch_33.ckpt\n",
      "\u001b[35mEpoch: \u001b[36m34/100 \u001b[35mStep: \u001b[36m149/149 \u001b[35m100.00% |\u001b[35m█████████████████████████\u001b[35m|\u001b[32m1.45s \u001b[35mloss:\u001b[94m 0.589143\u001b[35m acc:\u001b[94m 90.928181\u001b[35m fscore_micro:\u001b[94m 0.909282\u001b[35m val_loss:\u001b[94m 0.589405\u001b[35m val_acc:\u001b[94m 88.580442\u001b[35m val_fscore_micro:\u001b[94m 0.885804\u001b[0m\n",
      "\u001b[35mEpoch: \u001b[36m35/100 \u001b[35mStep: \u001b[36m149/149 \u001b[35m100.00% |\u001b[35m█████████████████████████\u001b[35m|\u001b[32m1.39s \u001b[35mloss:\u001b[94m 0.566602\u001b[35m acc:\u001b[94m 91.558169\u001b[35m fscore_micro:\u001b[94m 0.915582\u001b[35m val_loss:\u001b[94m 0.567638\u001b[35m val_acc:\u001b[94m 88.706625\u001b[35m val_fscore_micro:\u001b[94m 0.887066\u001b[0m\n",
      "\u001b[35mEpoch: \u001b[36m36/100 \u001b[35mStep: \u001b[36m149/149 \u001b[35m100.00% |\u001b[35m█████████████████████████\u001b[35m|\u001b[32m1.40s \u001b[35mloss:\u001b[94m 0.545204\u001b[35m acc:\u001b[94m 91.222176\u001b[35m fscore_micro:\u001b[94m 0.912222\u001b[35m val_loss:\u001b[94m 0.543540\u001b[35m val_acc:\u001b[94m 89.716088\u001b[35m val_fscore_micro:\u001b[94m 0.897161\u001b[0m\n",
      "Epoch 36: val_acc improved from 88.83281 to 89.71609, saving file to model/average_embedding_mlp\\checkpoint_epoch_36.ckpt\n",
      "\u001b[35mEpoch: \u001b[36m37/100 \u001b[35mStep: \u001b[36m149/149 \u001b[35m100.00% |\u001b[35m█████████████████████████\u001b[35m|\u001b[32m1.50s \u001b[35mloss:\u001b[94m 0.525889\u001b[35m acc:\u001b[94m 91.516170\u001b[35m fscore_micro:\u001b[94m 0.915162\u001b[35m val_loss:\u001b[94m 0.522496\u001b[35m val_acc:\u001b[94m 89.968454\u001b[35m val_fscore_micro:\u001b[94m 0.899685\u001b[0m\n",
      "Epoch 37: val_acc improved from 89.71609 to 89.96845, saving file to model/average_embedding_mlp\\checkpoint_epoch_37.ckpt\n",
      "\u001b[35mEpoch: \u001b[36m38/100 \u001b[35mStep: \u001b[36m149/149 \u001b[35m100.00% |\u001b[35m█████████████████████████\u001b[35m|\u001b[32m1.58s \u001b[35mloss:\u001b[94m 0.506573\u001b[35m acc:\u001b[94m 91.726165\u001b[35m fscore_micro:\u001b[94m 0.917262\u001b[35m val_loss:\u001b[94m 0.506340\u001b[35m val_acc:\u001b[94m 89.968454\u001b[35m val_fscore_micro:\u001b[94m 0.899685\u001b[0m\n",
      "\u001b[35mEpoch: \u001b[36m39/100 \u001b[35mStep: \u001b[36m149/149 \u001b[35m100.00% |\u001b[35m█████████████████████████\u001b[35m|\u001b[32m2.02s \u001b[35mloss:\u001b[94m 0.488100\u001b[35m acc:\u001b[94m 92.146157\u001b[35m fscore_micro:\u001b[94m 0.921462\u001b[35m val_loss:\u001b[94m 0.490017\u001b[35m val_acc:\u001b[94m 89.716088\u001b[35m val_fscore_micro:\u001b[94m 0.897161\u001b[0m\n",
      "\u001b[35mEpoch: \u001b[36m40/100 \u001b[35mStep: \u001b[36m149/149 \u001b[35m100.00% |\u001b[35m█████████████████████████\u001b[35m|\u001b[32m1.51s \u001b[35mloss:\u001b[94m 0.472098\u001b[35m acc:\u001b[94m 92.020160\u001b[35m fscore_micro:\u001b[94m 0.920202\u001b[35m val_loss:\u001b[94m 0.473830\u001b[35m val_acc:\u001b[94m 90.347003\u001b[35m val_fscore_micro:\u001b[94m 0.903470\u001b[0m\n",
      "Epoch 40: val_acc improved from 89.96845 to 90.34700, saving file to model/average_embedding_mlp\\checkpoint_epoch_40.ckpt\n",
      "\u001b[35mEpoch: \u001b[36m41/100 \u001b[35mStep: \u001b[36m149/149 \u001b[35m100.00% |\u001b[35m█████████████████████████\u001b[35m|\u001b[32m1.88s \u001b[35mloss:\u001b[94m 0.456132\u001b[35m acc:\u001b[94m 92.440151\u001b[35m fscore_micro:\u001b[94m 0.924402\u001b[35m val_loss:\u001b[94m 0.456900\u001b[35m val_acc:\u001b[94m 90.977918\u001b[35m val_fscore_micro:\u001b[94m 0.909779\u001b[0m\n",
      "Epoch 41: val_acc improved from 90.34700 to 90.97792, saving file to model/average_embedding_mlp\\checkpoint_epoch_41.ckpt\n",
      "\u001b[35mEpoch: \u001b[36m42/100 \u001b[35mStep: \u001b[36m149/149 \u001b[35m100.00% |\u001b[35m█████████████████████████\u001b[35m|\u001b[32m1.83s \u001b[35mloss:\u001b[94m 0.441009\u001b[35m acc:\u001b[94m 92.398152\u001b[35m fscore_micro:\u001b[94m 0.923982\u001b[35m val_loss:\u001b[94m 0.443345\u001b[35m val_acc:\u001b[94m 90.599369\u001b[35m val_fscore_micro:\u001b[94m 0.905994\u001b[0m\n",
      "\u001b[35mEpoch: \u001b[36m43/100 \u001b[35mStep: \u001b[36m149/149 \u001b[35m100.00% |\u001b[35m█████████████████████████\u001b[35m|\u001b[32m1.61s \u001b[35mloss:\u001b[94m 0.427475\u001b[35m acc:\u001b[94m 92.944141\u001b[35m fscore_micro:\u001b[94m 0.929441\u001b[35m val_loss:\u001b[94m 0.431336\u001b[35m val_acc:\u001b[94m 90.662461\u001b[35m val_fscore_micro:\u001b[94m 0.906625\u001b[0m\n",
      "\u001b[35mEpoch: \u001b[36m44/100 \u001b[35mStep: \u001b[36m149/149 \u001b[35m100.00% |\u001b[35m█████████████████████████\u001b[35m|\u001b[32m1.60s \u001b[35mloss:\u001b[94m 0.414494\u001b[35m acc:\u001b[94m 92.608148\u001b[35m fscore_micro:\u001b[94m 0.926081\u001b[35m val_loss:\u001b[94m 0.417248\u001b[35m val_acc:\u001b[94m 90.977918\u001b[35m val_fscore_micro:\u001b[94m 0.909779\u001b[0m\n",
      "\u001b[35mEpoch: \u001b[36m45/100 \u001b[35mStep: \u001b[36m149/149 \u001b[35m100.00% |\u001b[35m█████████████████████████\u001b[35m|\u001b[32m1.53s \u001b[35mloss:\u001b[94m 0.402392\u001b[35m acc:\u001b[94m 92.860143\u001b[35m fscore_micro:\u001b[94m 0.928601\u001b[35m val_loss:\u001b[94m 0.406630\u001b[35m val_acc:\u001b[94m 91.167192\u001b[35m val_fscore_micro:\u001b[94m 0.911672\u001b[0m\n",
      "Epoch 45: val_acc improved from 90.97792 to 91.16719, saving file to model/average_embedding_mlp\\checkpoint_epoch_45.ckpt\n"
     ]
    },
    {
     "name": "stdout",
     "output_type": "stream",
     "text": [
      "\u001b[35mEpoch: \u001b[36m46/100 \u001b[35mStep: \u001b[36m149/149 \u001b[35m100.00% |\u001b[35m█████████████████████████\u001b[35m|\u001b[32m1.50s \u001b[35mloss:\u001b[94m 0.390586\u001b[35m acc:\u001b[94m 92.986140\u001b[35m fscore_micro:\u001b[94m 0.929861\u001b[35m val_loss:\u001b[94m 0.394030\u001b[35m val_acc:\u001b[94m 91.419558\u001b[35m val_fscore_micro:\u001b[94m 0.914196\u001b[0m\n",
      "Epoch 46: val_acc improved from 91.16719 to 91.41956, saving file to model/average_embedding_mlp\\checkpoint_epoch_46.ckpt\n",
      "\u001b[35mEpoch: \u001b[36m47/100 \u001b[35mStep: \u001b[36m149/149 \u001b[35m100.00% |\u001b[35m█████████████████████████\u001b[35m|\u001b[32m1.62s \u001b[35mloss:\u001b[94m 0.380407\u001b[35m acc:\u001b[94m 93.070139\u001b[35m fscore_micro:\u001b[94m 0.930701\u001b[35m val_loss:\u001b[94m 0.385530\u001b[35m val_acc:\u001b[94m 91.356467\u001b[35m val_fscore_micro:\u001b[94m 0.913565\u001b[0m\n",
      "\u001b[35mEpoch: \u001b[36m48/100 \u001b[35mStep: \u001b[36m149/149 \u001b[35m100.00% |\u001b[35m█████████████████████████\u001b[35m|\u001b[32m1.50s \u001b[35mloss:\u001b[94m 0.370162\u001b[35m acc:\u001b[94m 93.196136\u001b[35m fscore_micro:\u001b[94m 0.931961\u001b[35m val_loss:\u001b[94m 0.376183\u001b[35m val_acc:\u001b[94m 91.545741\u001b[35m val_fscore_micro:\u001b[94m 0.915457\u001b[0m\n",
      "Epoch 48: val_acc improved from 91.41956 to 91.54574, saving file to model/average_embedding_mlp\\checkpoint_epoch_48.ckpt\n",
      "\u001b[35mEpoch: \u001b[36m49/100 \u001b[35mStep: \u001b[36m149/149 \u001b[35m100.00% |\u001b[35m█████████████████████████\u001b[35m|\u001b[32m1.42s \u001b[35mloss:\u001b[94m 0.360395\u001b[35m acc:\u001b[94m 93.364133\u001b[35m fscore_micro:\u001b[94m 0.933641\u001b[35m val_loss:\u001b[94m 0.368694\u001b[35m val_acc:\u001b[94m 91.230284\u001b[35m val_fscore_micro:\u001b[94m 0.912303\u001b[0m\n",
      "\u001b[35mEpoch: \u001b[36m50/100 \u001b[35mStep: \u001b[36m149/149 \u001b[35m100.00% |\u001b[35m█████████████████████████\u001b[35m|\u001b[32m1.44s \u001b[35mloss:\u001b[94m 0.350700\u001b[35m acc:\u001b[94m 93.532129\u001b[35m fscore_micro:\u001b[94m 0.935321\u001b[35m val_loss:\u001b[94m 0.363270\u001b[35m val_acc:\u001b[94m 90.977918\u001b[35m val_fscore_micro:\u001b[94m 0.909779\u001b[0m\n",
      "\u001b[35mEpoch: \u001b[36m51/100 \u001b[35mStep: \u001b[36m149/149 \u001b[35m100.00% |\u001b[35m█████████████████████████\u001b[35m|\u001b[32m1.54s \u001b[35mloss:\u001b[94m 0.342733\u001b[35m acc:\u001b[94m 93.826123\u001b[35m fscore_micro:\u001b[94m 0.938261\u001b[35m val_loss:\u001b[94m 0.350308\u001b[35m val_acc:\u001b[94m 92.365931\u001b[35m val_fscore_micro:\u001b[94m 0.923659\u001b[0m\n",
      "Epoch 51: val_acc improved from 91.54574 to 92.36593, saving file to model/average_embedding_mlp\\checkpoint_epoch_51.ckpt\n",
      "\u001b[35mEpoch: \u001b[36m52/100 \u001b[35mStep: \u001b[36m149/149 \u001b[35m100.00% |\u001b[35m█████████████████████████\u001b[35m|\u001b[32m1.56s \u001b[35mloss:\u001b[94m 0.334491\u001b[35m acc:\u001b[94m 93.574129\u001b[35m fscore_micro:\u001b[94m 0.935741\u001b[35m val_loss:\u001b[94m 0.343377\u001b[35m val_acc:\u001b[94m 92.492114\u001b[35m val_fscore_micro:\u001b[94m 0.924921\u001b[0m\n",
      "Epoch 52: val_acc improved from 92.36593 to 92.49211, saving file to model/average_embedding_mlp\\checkpoint_epoch_52.ckpt\n",
      "\u001b[35mEpoch: \u001b[36m53/100 \u001b[35mStep: \u001b[36m149/149 \u001b[35m100.00% |\u001b[35m█████████████████████████\u001b[35m|\u001b[32m1.49s \u001b[35mloss:\u001b[94m 0.326800\u001b[35m acc:\u001b[94m 94.162117\u001b[35m fscore_micro:\u001b[94m 0.941621\u001b[35m val_loss:\u001b[94m 0.336762\u001b[35m val_acc:\u001b[94m 91.987382\u001b[35m val_fscore_micro:\u001b[94m 0.919874\u001b[0m\n",
      "\u001b[35mEpoch: \u001b[36m54/100 \u001b[35mStep: \u001b[36m149/149 \u001b[35m100.00% |\u001b[35m█████████████████████████\u001b[35m|\u001b[32m1.48s \u001b[35mloss:\u001b[94m 0.319533\u001b[35m acc:\u001b[94m 93.574129\u001b[35m fscore_micro:\u001b[94m 0.935741\u001b[35m val_loss:\u001b[94m 0.328874\u001b[35m val_acc:\u001b[94m 92.429022\u001b[35m val_fscore_micro:\u001b[94m 0.924290\u001b[0m\n",
      "\u001b[35mEpoch: \u001b[36m55/100 \u001b[35mStep: \u001b[36m149/149 \u001b[35m100.00% |\u001b[35m█████████████████████████\u001b[35m|\u001b[32m1.50s \u001b[35mloss:\u001b[94m 0.312806\u001b[35m acc:\u001b[94m 94.036119\u001b[35m fscore_micro:\u001b[94m 0.940361\u001b[35m val_loss:\u001b[94m 0.320484\u001b[35m val_acc:\u001b[94m 92.113565\u001b[35m val_fscore_micro:\u001b[94m 0.921136\u001b[0m\n",
      "\u001b[35mEpoch: \u001b[36m56/100 \u001b[35mStep: \u001b[36m149/149 \u001b[35m100.00% |\u001b[35m█████████████████████████\u001b[35m|\u001b[32m1.53s \u001b[35mloss:\u001b[94m 0.306117\u001b[35m acc:\u001b[94m 93.868123\u001b[35m fscore_micro:\u001b[94m 0.938681\u001b[35m val_loss:\u001b[94m 0.315394\u001b[35m val_acc:\u001b[94m 92.050473\u001b[35m val_fscore_micro:\u001b[94m 0.920505\u001b[0m\n",
      "\u001b[35mEpoch: \u001b[36m57/100 \u001b[35mStep: \u001b[36m149/149 \u001b[35m100.00% |\u001b[35m█████████████████████████\u001b[35m|\u001b[32m1.61s \u001b[35mloss:\u001b[94m 0.299460\u001b[35m acc:\u001b[94m 93.994120\u001b[35m fscore_micro:\u001b[94m 0.939941\u001b[35m val_loss:\u001b[94m 0.314289\u001b[35m val_acc:\u001b[94m 92.239748\u001b[35m val_fscore_micro:\u001b[94m 0.922397\u001b[0m\n",
      "\u001b[35mEpoch: \u001b[36m58/100 \u001b[35mStep: \u001b[36m149/149 \u001b[35m100.00% |\u001b[35m█████████████████████████\u001b[35m|\u001b[32m1.61s \u001b[35mloss:\u001b[94m 0.293678\u001b[35m acc:\u001b[94m 94.246115\u001b[35m fscore_micro:\u001b[94m 0.942461\u001b[35m val_loss:\u001b[94m 0.304866\u001b[35m val_acc:\u001b[94m 92.429022\u001b[35m val_fscore_micro:\u001b[94m 0.924290\u001b[0m\n",
      "\u001b[35mEpoch: \u001b[36m59/100 \u001b[35mStep: \u001b[36m149/149 \u001b[35m100.00% |\u001b[35m█████████████████████████\u001b[35m|\u001b[32m1.56s \u001b[35mloss:\u001b[94m 0.287658\u001b[35m acc:\u001b[94m 94.204116\u001b[35m fscore_micro:\u001b[94m 0.942041\u001b[35m val_loss:\u001b[94m 0.299623\u001b[35m val_acc:\u001b[94m 92.555205\u001b[35m val_fscore_micro:\u001b[94m 0.925552\u001b[0m\n",
      "Epoch 59: val_acc improved from 92.49211 to 92.55521, saving file to model/average_embedding_mlp\\checkpoint_epoch_59.ckpt\n",
      "\u001b[35mEpoch: \u001b[36m60/100 \u001b[35mStep: \u001b[36m149/149 \u001b[35m100.00% |\u001b[35m█████████████████████████\u001b[35m|\u001b[32m1.55s \u001b[35mloss:\u001b[94m 0.283118\u001b[35m acc:\u001b[94m 94.162117\u001b[35m fscore_micro:\u001b[94m 0.941621\u001b[35m val_loss:\u001b[94m 0.294131\u001b[35m val_acc:\u001b[94m 92.429022\u001b[35m val_fscore_micro:\u001b[94m 0.924290\u001b[0m\n",
      "\u001b[35mEpoch: \u001b[36m61/100 \u001b[35mStep: \u001b[36m149/149 \u001b[35m100.00% |\u001b[35m█████████████████████████\u001b[35m|\u001b[32m1.55s \u001b[35mloss:\u001b[94m 0.276192\u001b[35m acc:\u001b[94m 94.540109\u001b[35m fscore_micro:\u001b[94m 0.945401\u001b[35m val_loss:\u001b[94m 0.290034\u001b[35m val_acc:\u001b[94m 92.807571\u001b[35m val_fscore_micro:\u001b[94m 0.928076\u001b[0m\n",
      "Epoch 61: val_acc improved from 92.55521 to 92.80757, saving file to model/average_embedding_mlp\\checkpoint_epoch_61.ckpt\n",
      "\u001b[35mEpoch: \u001b[36m62/100 \u001b[35mStep: \u001b[36m149/149 \u001b[35m100.00% |\u001b[35m█████████████████████████\u001b[35m|\u001b[32m1.74s \u001b[35mloss:\u001b[94m 0.272437\u001b[35m acc:\u001b[94m 94.498110\u001b[35m fscore_micro:\u001b[94m 0.944981\u001b[35m val_loss:\u001b[94m 0.285384\u001b[35m val_acc:\u001b[94m 92.429022\u001b[35m val_fscore_micro:\u001b[94m 0.924290\u001b[0m\n",
      "\u001b[35mEpoch: \u001b[36m63/100 \u001b[35mStep: \u001b[36m149/149 \u001b[35m100.00% |\u001b[35m█████████████████████████\u001b[35m|\u001b[32m2.21s \u001b[35mloss:\u001b[94m 0.267568\u001b[35m acc:\u001b[94m 94.456111\u001b[35m fscore_micro:\u001b[94m 0.944561\u001b[35m val_loss:\u001b[94m 0.279499\u001b[35m val_acc:\u001b[94m 92.807571\u001b[35m val_fscore_micro:\u001b[94m 0.928076\u001b[0m\n",
      "\u001b[35mEpoch: \u001b[36m64/100 \u001b[35mStep: \u001b[36m149/149 \u001b[35m100.00% |\u001b[35m█████████████████████████\u001b[35m|\u001b[32m1.58s \u001b[35mloss:\u001b[94m 0.263147\u001b[35m acc:\u001b[94m 94.540109\u001b[35m fscore_micro:\u001b[94m 0.945401\u001b[35m val_loss:\u001b[94m 0.277173\u001b[35m val_acc:\u001b[94m 92.618297\u001b[35m val_fscore_micro:\u001b[94m 0.926183\u001b[0m\n",
      "\u001b[35mEpoch: \u001b[36m65/100 \u001b[35mStep: \u001b[36m149/149 \u001b[35m100.00% |\u001b[35m█████████████████████████\u001b[35m|\u001b[32m2.19s \u001b[35mloss:\u001b[94m 0.257919\u001b[35m acc:\u001b[94m 94.624108\u001b[35m fscore_micro:\u001b[94m 0.946241\u001b[35m val_loss:\u001b[94m 0.272155\u001b[35m val_acc:\u001b[94m 92.744479\u001b[35m val_fscore_micro:\u001b[94m 0.927445\u001b[0m\n",
      "\u001b[35mEpoch: \u001b[36m66/100 \u001b[35mStep: \u001b[36m149/149 \u001b[35m100.00% |\u001b[35m█████████████████████████\u001b[35m|\u001b[32m1.71s \u001b[35mloss:\u001b[94m 0.254757\u001b[35m acc:\u001b[94m 94.708106\u001b[35m fscore_micro:\u001b[94m 0.947081\u001b[35m val_loss:\u001b[94m 0.269602\u001b[35m val_acc:\u001b[94m 92.996845\u001b[35m val_fscore_micro:\u001b[94m 0.929968\u001b[0m\n",
      "Epoch 66: val_acc improved from 92.80757 to 92.99685, saving file to model/average_embedding_mlp\\checkpoint_epoch_66.ckpt\n",
      "\u001b[35mEpoch: \u001b[36m67/100 \u001b[35mStep: \u001b[36m149/149 \u001b[35m100.00% |\u001b[35m█████████████████████████\u001b[35m|\u001b[32m1.51s \u001b[35mloss:\u001b[94m 0.249606\u001b[35m acc:\u001b[94m 94.960101\u001b[35m fscore_micro:\u001b[94m 0.949601\u001b[35m val_loss:\u001b[94m 0.266080\u001b[35m val_acc:\u001b[94m 93.312303\u001b[35m val_fscore_micro:\u001b[94m 0.933123\u001b[0m\n",
      "Epoch 67: val_acc improved from 92.99685 to 93.31230, saving file to model/average_embedding_mlp\\checkpoint_epoch_67.ckpt\n",
      "\u001b[35mEpoch: \u001b[36m68/100 \u001b[35mStep: \u001b[36m149/149 \u001b[35m100.00% |\u001b[35m█████████████████████████\u001b[35m|\u001b[32m1.52s \u001b[35mloss:\u001b[94m 0.245623\u001b[35m acc:\u001b[94m 95.086098\u001b[35m fscore_micro:\u001b[94m 0.950861\u001b[35m val_loss:\u001b[94m 0.262554\u001b[35m val_acc:\u001b[94m 92.933754\u001b[35m val_fscore_micro:\u001b[94m 0.929338\u001b[0m\n",
      "\u001b[35mEpoch: \u001b[36m69/100 \u001b[35mStep: \u001b[36m149/149 \u001b[35m100.00% |\u001b[35m█████████████████████████\u001b[35m|\u001b[32m1.54s \u001b[35mloss:\u001b[94m 0.241389\u001b[35m acc:\u001b[94m 94.918102\u001b[35m fscore_micro:\u001b[94m 0.949181\u001b[35m val_loss:\u001b[94m 0.259744\u001b[35m val_acc:\u001b[94m 92.996845\u001b[35m val_fscore_micro:\u001b[94m 0.929968\u001b[0m\n",
      "\u001b[35mEpoch: \u001b[36m70/100 \u001b[35mStep: \u001b[36m149/149 \u001b[35m100.00% |\u001b[35m█████████████████████████\u001b[35m|\u001b[32m1.46s \u001b[35mloss:\u001b[94m 0.238190\u001b[35m acc:\u001b[94m 94.624108\u001b[35m fscore_micro:\u001b[94m 0.946241\u001b[35m val_loss:\u001b[94m 0.254259\u001b[35m val_acc:\u001b[94m 93.312303\u001b[35m val_fscore_micro:\u001b[94m 0.933123\u001b[0m\n"
     ]
    },
    {
     "name": "stdout",
     "output_type": "stream",
     "text": [
      "\u001b[35mEpoch: \u001b[36m71/100 \u001b[35mStep: \u001b[36m149/149 \u001b[35m100.00% |\u001b[35m█████████████████████████\u001b[35m|\u001b[32m2.13s \u001b[35mloss:\u001b[94m 0.234763\u001b[35m acc:\u001b[94m 95.044099\u001b[35m fscore_micro:\u001b[94m 0.950441\u001b[35m val_loss:\u001b[94m 0.253342\u001b[35m val_acc:\u001b[94m 93.123028\u001b[35m val_fscore_micro:\u001b[94m 0.931230\u001b[0m\n",
      "\u001b[35mEpoch: \u001b[36m72/100 \u001b[35mStep: \u001b[36m149/149 \u001b[35m100.00% |\u001b[35m█████████████████████████\u001b[35m|\u001b[32m2.28s \u001b[35mloss:\u001b[94m 0.231641\u001b[35m acc:\u001b[94m 94.918102\u001b[35m fscore_micro:\u001b[94m 0.949181\u001b[35m val_loss:\u001b[94m 0.249828\u001b[35m val_acc:\u001b[94m 93.123028\u001b[35m val_fscore_micro:\u001b[94m 0.931230\u001b[0m\n",
      "\u001b[35mEpoch: \u001b[36m73/100 \u001b[35mStep: \u001b[36m149/149 \u001b[35m100.00% |\u001b[35m█████████████████████████\u001b[35m|\u001b[32m1.93s \u001b[35mloss:\u001b[94m 0.227494\u001b[35m acc:\u001b[94m 94.918102\u001b[35m fscore_micro:\u001b[94m 0.949181\u001b[35m val_loss:\u001b[94m 0.246394\u001b[35m val_acc:\u001b[94m 93.186120\u001b[35m val_fscore_micro:\u001b[94m 0.931861\u001b[0m\n",
      "\u001b[35mEpoch: \u001b[36m74/100 \u001b[35mStep: \u001b[36m149/149 \u001b[35m100.00% |\u001b[35m█████████████████████████\u001b[35m|\u001b[32m1.72s \u001b[35mloss:\u001b[94m 0.224682\u001b[35m acc:\u001b[94m 95.254095\u001b[35m fscore_micro:\u001b[94m 0.952541\u001b[35m val_loss:\u001b[94m 0.248061\u001b[35m val_acc:\u001b[94m 92.996845\u001b[35m val_fscore_micro:\u001b[94m 0.929968\u001b[0m\n",
      "\u001b[35mEpoch: \u001b[36m75/100 \u001b[35mStep: \u001b[36m149/149 \u001b[35m100.00% |\u001b[35m█████████████████████████\u001b[35m|\u001b[32m1.57s \u001b[35mloss:\u001b[94m 0.221459\u001b[35m acc:\u001b[94m 95.254095\u001b[35m fscore_micro:\u001b[94m 0.952541\u001b[35m val_loss:\u001b[94m 0.240817\u001b[35m val_acc:\u001b[94m 93.375394\u001b[35m val_fscore_micro:\u001b[94m 0.933754\u001b[0m\n",
      "Epoch 75: val_acc improved from 93.31230 to 93.37539, saving file to model/average_embedding_mlp\\checkpoint_epoch_75.ckpt\n",
      "\u001b[35mEpoch: \u001b[36m76/100 \u001b[35mStep: \u001b[36m149/149 \u001b[35m100.00% |\u001b[35m█████████████████████████\u001b[35m|\u001b[32m2.00s \u001b[35mloss:\u001b[94m 0.218496\u001b[35m acc:\u001b[94m 95.254095\u001b[35m fscore_micro:\u001b[94m 0.952541\u001b[35m val_loss:\u001b[94m 0.238495\u001b[35m val_acc:\u001b[94m 93.375394\u001b[35m val_fscore_micro:\u001b[94m 0.933754\u001b[0m\n",
      "\u001b[35mEpoch: \u001b[36m77/100 \u001b[35mStep: \u001b[36m149/149 \u001b[35m100.00% |\u001b[35m█████████████████████████\u001b[35m|\u001b[32m1.74s \u001b[35mloss:\u001b[94m 0.215508\u001b[35m acc:\u001b[94m 95.296094\u001b[35m fscore_micro:\u001b[94m 0.952961\u001b[35m val_loss:\u001b[94m 0.236565\u001b[35m val_acc:\u001b[94m 93.375394\u001b[35m val_fscore_micro:\u001b[94m 0.933754\u001b[0m\n",
      "\u001b[35mEpoch: \u001b[36m78/100 \u001b[35mStep: \u001b[36m149/149 \u001b[35m100.00% |\u001b[35m█████████████████████████\u001b[35m|\u001b[32m1.52s \u001b[35mloss:\u001b[94m 0.212647\u001b[35m acc:\u001b[94m 95.338093\u001b[35m fscore_micro:\u001b[94m 0.953381\u001b[35m val_loss:\u001b[94m 0.233950\u001b[35m val_acc:\u001b[94m 93.249211\u001b[35m val_fscore_micro:\u001b[94m 0.932492\u001b[0m\n",
      "\u001b[35mEpoch: \u001b[36m79/100 \u001b[35mStep: \u001b[36m149/149 \u001b[35m100.00% |\u001b[35m█████████████████████████\u001b[35m|\u001b[32m2.08s \u001b[35mloss:\u001b[94m 0.209602\u001b[35m acc:\u001b[94m 95.464091\u001b[35m fscore_micro:\u001b[94m 0.954641\u001b[35m val_loss:\u001b[94m 0.231580\u001b[35m val_acc:\u001b[94m 93.375394\u001b[35m val_fscore_micro:\u001b[94m 0.933754\u001b[0m\n",
      "\u001b[35mEpoch: \u001b[36m80/100 \u001b[35mStep: \u001b[36m149/149 \u001b[35m100.00% |\u001b[35m█████████████████████████\u001b[35m|\u001b[32m2.48s \u001b[35mloss:\u001b[94m 0.207258\u001b[35m acc:\u001b[94m 95.422092\u001b[35m fscore_micro:\u001b[94m 0.954221\u001b[35m val_loss:\u001b[94m 0.228405\u001b[35m val_acc:\u001b[94m 93.690852\u001b[35m val_fscore_micro:\u001b[94m 0.936909\u001b[0m\n",
      "Epoch 80: val_acc improved from 93.37539 to 93.69085, saving file to model/average_embedding_mlp\\checkpoint_epoch_80.ckpt\n",
      "\u001b[35mEpoch: \u001b[36m81/100 \u001b[35mStep: \u001b[36m149/149 \u001b[35m100.00% |\u001b[35m█████████████████████████\u001b[35m|\u001b[32m1.57s \u001b[35mloss:\u001b[94m 0.205082\u001b[35m acc:\u001b[94m 95.380092\u001b[35m fscore_micro:\u001b[94m 0.953801\u001b[35m val_loss:\u001b[94m 0.227912\u001b[35m val_acc:\u001b[94m 93.438486\u001b[35m val_fscore_micro:\u001b[94m 0.934385\u001b[0m\n",
      "\u001b[35mEpoch: \u001b[36m82/100 \u001b[35mStep: \u001b[36m149/149 \u001b[35m100.00% |\u001b[35m█████████████████████████\u001b[35m|\u001b[32m1.75s \u001b[35mloss:\u001b[94m 0.202182\u001b[35m acc:\u001b[94m 95.716086\u001b[35m fscore_micro:\u001b[94m 0.957161\u001b[35m val_loss:\u001b[94m 0.225811\u001b[35m val_acc:\u001b[94m 93.375394\u001b[35m val_fscore_micro:\u001b[94m 0.933754\u001b[0m\n",
      "\u001b[35mEpoch: \u001b[36m83/100 \u001b[35mStep: \u001b[36m149/149 \u001b[35m100.00% |\u001b[35m█████████████████████████\u001b[35m|\u001b[32m1.55s \u001b[35mloss:\u001b[94m 0.199332\u001b[35m acc:\u001b[94m 95.506090\u001b[35m fscore_micro:\u001b[94m 0.955061\u001b[35m val_loss:\u001b[94m 0.222220\u001b[35m val_acc:\u001b[94m 93.817035\u001b[35m val_fscore_micro:\u001b[94m 0.938170\u001b[0m\n",
      "Epoch 83: val_acc improved from 93.69085 to 93.81703, saving file to model/average_embedding_mlp\\checkpoint_epoch_83.ckpt\n",
      "\u001b[35mEpoch: \u001b[36m84/100 \u001b[35mStep: \u001b[36m149/149 \u001b[35m100.00% |\u001b[35m█████████████████████████\u001b[35m|\u001b[32m1.61s \u001b[35mloss:\u001b[94m 0.197144\u001b[35m acc:\u001b[94m 95.632087\u001b[35m fscore_micro:\u001b[94m 0.956321\u001b[35m val_loss:\u001b[94m 0.220768\u001b[35m val_acc:\u001b[94m 93.880126\u001b[35m val_fscore_micro:\u001b[94m 0.938801\u001b[0m\n",
      "Epoch 84: val_acc improved from 93.81703 to 93.88013, saving file to model/average_embedding_mlp\\checkpoint_epoch_84.ckpt\n",
      "\u001b[35mEpoch: \u001b[36m85/100 \u001b[35mStep: \u001b[36m149/149 \u001b[35m100.00% |\u001b[35m█████████████████████████\u001b[35m|\u001b[32m1.54s \u001b[35mloss:\u001b[94m 0.192314\u001b[35m acc:\u001b[94m 95.758085\u001b[35m fscore_micro:\u001b[94m 0.957581\u001b[35m val_loss:\u001b[94m 0.220566\u001b[35m val_acc:\u001b[94m 93.249211\u001b[35m val_fscore_micro:\u001b[94m 0.932492\u001b[0m\n",
      "\u001b[35mEpoch: \u001b[36m86/100 \u001b[35mStep: \u001b[36m149/149 \u001b[35m100.00% |\u001b[35m█████████████████████████\u001b[35m|\u001b[32m1.58s \u001b[35mloss:\u001b[94m 0.193421\u001b[35m acc:\u001b[94m 95.548089\u001b[35m fscore_micro:\u001b[94m 0.955481\u001b[35m val_loss:\u001b[94m 0.219314\u001b[35m val_acc:\u001b[94m 94.132492\u001b[35m val_fscore_micro:\u001b[94m 0.941325\u001b[0m\n",
      "Epoch 86: val_acc improved from 93.88013 to 94.13249, saving file to model/average_embedding_mlp\\checkpoint_epoch_86.ckpt\n",
      "\u001b[35mEpoch: \u001b[36m87/100 \u001b[35mStep: \u001b[36m149/149 \u001b[35m100.00% |\u001b[35m█████████████████████████\u001b[35m|\u001b[32m1.55s \u001b[35mloss:\u001b[94m 0.190639\u001b[35m acc:\u001b[94m 95.632087\u001b[35m fscore_micro:\u001b[94m 0.956321\u001b[35m val_loss:\u001b[94m 0.216597\u001b[35m val_acc:\u001b[94m 93.690852\u001b[35m val_fscore_micro:\u001b[94m 0.936909\u001b[0m\n",
      "\u001b[35mEpoch: \u001b[36m88/100 \u001b[35mStep: \u001b[36m149/149 \u001b[35m100.00% |\u001b[35m█████████████████████████\u001b[35m|\u001b[32m1.62s \u001b[35mloss:\u001b[94m 0.188576\u001b[35m acc:\u001b[94m 95.884082\u001b[35m fscore_micro:\u001b[94m 0.958841\u001b[35m val_loss:\u001b[94m 0.214779\u001b[35m val_acc:\u001b[94m 93.943218\u001b[35m val_fscore_micro:\u001b[94m 0.939432\u001b[0m\n",
      "\u001b[35mEpoch: \u001b[36m89/100 \u001b[35mStep: \u001b[36m149/149 \u001b[35m100.00% |\u001b[35m█████████████████████████\u001b[35m|\u001b[32m1.42s \u001b[35mloss:\u001b[94m 0.186360\u001b[35m acc:\u001b[94m 95.674087\u001b[35m fscore_micro:\u001b[94m 0.956741\u001b[35m val_loss:\u001b[94m 0.212531\u001b[35m val_acc:\u001b[94m 94.006309\u001b[35m val_fscore_micro:\u001b[94m 0.940063\u001b[0m\n",
      "\u001b[35mEpoch: \u001b[36m90/100 \u001b[35mStep: \u001b[36m149/149 \u001b[35m100.00% |\u001b[35m█████████████████████████\u001b[35m|\u001b[32m1.70s \u001b[35mloss:\u001b[94m 0.184413\u001b[35m acc:\u001b[94m 95.758085\u001b[35m fscore_micro:\u001b[94m 0.957581\u001b[35m val_loss:\u001b[94m 0.210557\u001b[35m val_acc:\u001b[94m 93.564669\u001b[35m val_fscore_micro:\u001b[94m 0.935647\u001b[0m\n",
      "\u001b[35mEpoch: \u001b[36m91/100 \u001b[35mStep: \u001b[36m149/149 \u001b[35m100.00% |\u001b[35m█████████████████████████\u001b[35m|\u001b[32m1.57s \u001b[35mloss:\u001b[94m 0.182340\u001b[35m acc:\u001b[94m 95.590088\u001b[35m fscore_micro:\u001b[94m 0.955901\u001b[35m val_loss:\u001b[94m 0.209809\u001b[35m val_acc:\u001b[94m 93.501577\u001b[35m val_fscore_micro:\u001b[94m 0.935016\u001b[0m\n",
      "\u001b[35mEpoch: \u001b[36m92/100 \u001b[35mStep: \u001b[36m149/149 \u001b[35m100.00% |\u001b[35m█████████████████████████\u001b[35m|\u001b[32m1.52s \u001b[35mloss:\u001b[94m 0.179801\u001b[35m acc:\u001b[94m 95.884082\u001b[35m fscore_micro:\u001b[94m 0.958841\u001b[35m val_loss:\u001b[94m 0.209944\u001b[35m val_acc:\u001b[94m 93.627760\u001b[35m val_fscore_micro:\u001b[94m 0.936278\u001b[0m\n",
      "\u001b[35mEpoch: \u001b[36m93/100 \u001b[35mStep: \u001b[36m149/149 \u001b[35m100.00% |\u001b[35m█████████████████████████\u001b[35m|\u001b[32m1.77s \u001b[35mloss:\u001b[94m 0.177868\u001b[35m acc:\u001b[94m 96.010080\u001b[35m fscore_micro:\u001b[94m 0.960101\u001b[35m val_loss:\u001b[94m 0.205479\u001b[35m val_acc:\u001b[94m 94.195584\u001b[35m val_fscore_micro:\u001b[94m 0.941956\u001b[0m\n",
      "Epoch 93: val_acc improved from 94.13249 to 94.19558, saving file to model/average_embedding_mlp\\checkpoint_epoch_93.ckpt\n",
      "\u001b[35mEpoch: \u001b[36m94/100 \u001b[35mStep: \u001b[36m149/149 \u001b[35m100.00% |\u001b[35m█████████████████████████\u001b[35m|\u001b[32m2.28s \u001b[35mloss:\u001b[94m 0.176722\u001b[35m acc:\u001b[94m 95.884082\u001b[35m fscore_micro:\u001b[94m 0.958841\u001b[35m val_loss:\u001b[94m 0.206357\u001b[35m val_acc:\u001b[94m 93.564669\u001b[35m val_fscore_micro:\u001b[94m 0.935647\u001b[0m\n",
      "\u001b[35mEpoch: \u001b[36m95/100 \u001b[35mStep: \u001b[36m149/149 \u001b[35m100.00% |\u001b[35m█████████████████████████\u001b[35m|\u001b[32m1.66s \u001b[35mloss:\u001b[94m 0.174809\u001b[35m acc:\u001b[94m 95.968081\u001b[35m fscore_micro:\u001b[94m 0.959681\u001b[35m val_loss:\u001b[94m 0.202703\u001b[35m val_acc:\u001b[94m 94.258675\u001b[35m val_fscore_micro:\u001b[94m 0.942587\u001b[0m\n",
      "Epoch 95: val_acc improved from 94.19558 to 94.25868, saving file to model/average_embedding_mlp\\checkpoint_epoch_95.ckpt\n"
     ]
    },
    {
     "name": "stdout",
     "output_type": "stream",
     "text": [
      "\u001b[35mEpoch: \u001b[36m96/100 \u001b[35mStep: \u001b[36m149/149 \u001b[35m100.00% |\u001b[35m█████████████████████████\u001b[35m|\u001b[32m1.63s \u001b[35mloss:\u001b[94m 0.173216\u001b[35m acc:\u001b[94m 95.842083\u001b[35m fscore_micro:\u001b[94m 0.958421\u001b[35m val_loss:\u001b[94m 0.205705\u001b[35m val_acc:\u001b[94m 93.438486\u001b[35m val_fscore_micro:\u001b[94m 0.934385\u001b[0m\n",
      "\u001b[35mEpoch: \u001b[36m97/100 \u001b[35mStep: \u001b[36m149/149 \u001b[35m100.00% |\u001b[35m█████████████████████████\u001b[35m|\u001b[32m1.56s \u001b[35mloss:\u001b[94m 0.171738\u001b[35m acc:\u001b[94m 96.052079\u001b[35m fscore_micro:\u001b[94m 0.960521\u001b[35m val_loss:\u001b[94m 0.202211\u001b[35m val_acc:\u001b[94m 93.690852\u001b[35m val_fscore_micro:\u001b[94m 0.936909\u001b[0m\n",
      "\u001b[35mEpoch: \u001b[36m98/100 \u001b[35mStep: \u001b[36m149/149 \u001b[35m100.00% |\u001b[35m█████████████████████████\u001b[35m|\u001b[32m1.57s \u001b[35mloss:\u001b[94m 0.169720\u001b[35m acc:\u001b[94m 96.094078\u001b[35m fscore_micro:\u001b[94m 0.960941\u001b[35m val_loss:\u001b[94m 0.200957\u001b[35m val_acc:\u001b[94m 94.195584\u001b[35m val_fscore_micro:\u001b[94m 0.941956\u001b[0m\n",
      "\u001b[35mEpoch: \u001b[36m99/100 \u001b[35mStep: \u001b[36m149/149 \u001b[35m100.00% |\u001b[35m█████████████████████████\u001b[35m|\u001b[32m1.48s \u001b[35mloss:\u001b[94m 0.167774\u001b[35m acc:\u001b[94m 96.178076\u001b[35m fscore_micro:\u001b[94m 0.961781\u001b[35m val_loss:\u001b[94m 0.198187\u001b[35m val_acc:\u001b[94m 93.817035\u001b[35m val_fscore_micro:\u001b[94m 0.938170\u001b[0m\n",
      "\u001b[35mEpoch: \u001b[36m100/100 \u001b[35mStep: \u001b[36m149/149 \u001b[35m100.00% |\u001b[35m█████████████████████████\u001b[35m|\u001b[32m1.53s \u001b[35mloss:\u001b[94m 0.166191\u001b[35m acc:\u001b[94m 95.926081\u001b[35m fscore_micro:\u001b[94m 0.959261\u001b[35m val_loss:\u001b[94m 0.196548\u001b[35m val_acc:\u001b[94m 94.321767\u001b[35m val_fscore_micro:\u001b[94m 0.943218\u001b[0m\n",
      "Epoch 100: val_acc improved from 94.25868 to 94.32177, saving file to model/average_embedding_mlp\\checkpoint_epoch_100.ckpt\n",
      "Restoring model from model/average_embedding_mlp\\checkpoint_epoch_100.ckpt\n"
     ]
    }
   ],
   "source": [
    "logging = experiment.train(train_dataloader, valid_dataloader, epochs=100, disable_tensorboard=True)\n"
   ]
  },
  {
   "cell_type": "markdown",
   "metadata": {},
   "source": [
    "## 5. Prédiction sur quelques exemples\n"
   ]
  },
  {
   "cell_type": "code",
   "execution_count": 9,
   "metadata": {},
   "outputs": [],
   "source": [
    "from torch.nn.functional import softmax\n",
    "\n",
    "def get_most_probable_class(sentence, model):\n",
    "    vectorized_sentence = aggregation_function(sentence)\n",
    "    prediction = model(FloatTensor(vectorized_sentence).squeeze(0)).detach()\n",
    "    output = softmax(prediction, dim=0)\n",
    "    max_category_index = np.argmax(output)\n",
    "    max_category = target_categories[max_category_index]\n",
    "    print(\"\\nClassification de la phrase: \", sentence)\n",
    "    print(\"Sorties du réseau de neurones:\", prediction)\n",
    "    print(\"Valeurs obtenues après application de softmax:\", output)\n",
    "    print(\"Meilleure classe: {} qui correspond en sortie au neurone {}\".format(max_category, max_category_index))\n",
    "    return(max_category)\n"
   ]
  },
  {
   "cell_type": "code",
   "execution_count": 10,
   "metadata": {},
   "outputs": [
    {
     "name": "stdout",
     "output_type": "stream",
     "text": [
      "\n",
      "Classification de la phrase:  Getzky was a center, not a goaltender\n",
      "Sorties du réseau de neurones: tensor([-4.0090,  7.3172, -2.5695, -0.4598])\n",
      "Valeurs obtenues après application de softmax: tensor([1.2048e-05, 9.9952e-01, 5.0825e-05, 4.1907e-04])\n",
      "Meilleure classe: rec.sport.hockey qui correspond en sortie au neurone 1\n",
      "\n",
      "Classification de la phrase:  Mazda and BMW cars are esthetic\n",
      "Sorties du réseau de neurones: tensor([ 23.5277,  -3.9371, -10.8859,  -8.7623])\n",
      "Valeurs obtenues après application de softmax: tensor([1.0000e+00, 1.1808e-12, 1.1334e-15, 9.4759e-15])\n",
      "Meilleure classe: rec.autos qui correspond en sortie au neurone 0\n",
      "\n",
      "Classification de la phrase:  Doctor, doctor, gimme the news\n",
      "Sorties du réseau de neurones: tensor([-4.9605, -3.8526, 12.3112, -3.3667])\n",
      "Valeurs obtenues après application de softmax: tensor([3.1550e-08, 9.5528e-08, 1.0000e+00, 1.5529e-07])\n",
      "Meilleure classe: sci.med qui correspond en sortie au neurone 2\n",
      "\n",
      "Classification de la phrase:  Take me to the moon\n",
      "Sorties du réseau de neurones: tensor([-2.5253, -3.5607, -2.7200,  8.1132])\n",
      "Valeurs obtenues après application de softmax: tensor([2.3973e-05, 8.5132e-06, 1.9733e-05, 9.9995e-01])\n",
      "Meilleure classe: sci.space qui correspond en sortie au neurone 3\n"
     ]
    },
    {
     "data": {
      "text/plain": [
       "['rec.sport.hockey', 'rec.autos', 'sci.med', 'sci.space']"
      ]
     },
     "execution_count": 10,
     "metadata": {},
     "output_type": "execute_result"
    }
   ],
   "source": [
    "# On test le modèle avec de nouvelles phrases \n",
    "\n",
    "test_docs = ['Getzky was a center, not a goaltender', \n",
    "             'Mazda and BMW cars are esthetic',\n",
    "             'Doctor, doctor, gimme the news', \n",
    "             'Take me to the moon']\n",
    "\n",
    "[get_most_probable_class(sentence, model) for sentence in test_docs]\n"
   ]
  }
 ],
 "metadata": {
  "kernelspec": {
   "display_name": "Python 3",
   "language": "python",
   "name": "python3"
  },
  "language_info": {
   "codemirror_mode": {
    "name": "ipython",
    "version": 3
   },
   "file_extension": ".py",
   "mimetype": "text/x-python",
   "name": "python",
   "nbconvert_exporter": "python",
   "pygments_lexer": "ipython3",
   "version": "3.8.6"
  }
 },
 "nbformat": 4,
 "nbformat_minor": 4
}
